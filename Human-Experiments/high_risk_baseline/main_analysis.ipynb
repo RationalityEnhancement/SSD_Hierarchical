{
 "metadata": {
  "language_info": {
   "codemirror_mode": {
    "name": "ipython",
    "version": 3
   },
   "file_extension": ".py",
   "mimetype": "text/x-python",
   "name": "python",
   "nbconvert_exporter": "python",
   "pygments_lexer": "ipython3",
   "version": "3.8.5-final"
  },
  "orig_nbformat": 2,
  "kernelspec": {
   "name": "python3",
   "display_name": "Python 3",
   "language": "python"
  }
 },
 "nbformat": 4,
 "nbformat_minor": 2,
 "cells": [
  {
   "cell_type": "code",
   "execution_count": 96,
   "metadata": {},
   "outputs": [],
   "source": [
    "import json\n",
    "import pandas as pd\n",
    "import numpy as np\n",
    "from matplotlib import pyplot as plt\n",
    "from scipy import stats\n",
    "import sys, os\n",
    "sys.path.append(\"C:/Users/lheindrich/Documents/Scalable-discovery/metacontroller/\")\n",
    "os.chdir(\"C:/Users/lheindrich/Documents/Scalable-discovery/metacontroller/\")\n",
    "\n",
    "from utils.distributions import Categorical"
   ]
  },
  {
   "cell_type": "code",
   "execution_count": 97,
   "metadata": {},
   "outputs": [],
   "source": [
    "path = os.getcwd() + \"/human-baseline-data/dataclips_vjnrfywhgilglbjxlzrrhptflpdn.json\"\n",
    "\n",
    "data = json.load(open(path))\n",
    "\n",
    "high_risk_clicks = [8, 23, 38, 53]\n",
    "goal_clicks = [15,30,45,60]\n",
    "COST = 10\n",
    "high_risk_click_reward = -1500 * 0.1\n",
    "goal_reward = 50\n",
    "meta_expected_scores = [65, 45, 60, 45, 60]\n",
    "hierarchical_expected_scores =  [75, 55, -1460, 55, 70]"
   ]
  },
  {
   "cell_type": "code",
   "execution_count": 98,
   "metadata": {},
   "outputs": [],
   "source": [
    "def get_expected_score(trialdata, COST=COST):\n",
    "    path = trialdata[\"path\"]\n",
    "    queries = trialdata[\"queries\"][\"click\"][\"state\"][\"target\"]\n",
    "    # Replace first element with 0 for root\n",
    "    ground_truth =  [0] + trialdata[\"stateRewards\"][1:]\n",
    "    reward = 0\n",
    "    #print(path)\n",
    "    #print(high_risk_clicks)\n",
    "    for node in path:\n",
    "        if node in queries or (int(node) in queries):\n",
    "            reward += ground_truth[int(node)]\n",
    "        else:\n",
    "            if (node in high_risk_clicks) or (int(node) in high_risk_clicks):\n",
    "                reward += high_risk_click_reward #Probability of triggering high risk event * negative reward of high risk event\n",
    "            elif (node in goal_clicks) or (int(node) in goal_clicks):\n",
    "                reward += goal_reward\n",
    "            else:\n",
    "                reward += 0 # Depends on experiment, in this case the expectation of all other nodes is 0\n",
    "    # Click cost\n",
    "    reward -= len(queries) * COST\n",
    "    return reward"
   ]
  },
  {
   "cell_type": "code",
   "execution_count": 99,
   "metadata": {
    "tags": []
   },
   "outputs": [
    {
     "output_type": "stream",
     "name": "stdout",
     "text": [
      "Good responses 48\n"
     ]
    }
   ],
   "source": [
    "df_index = [\"Participant\", \"Condition\", \"TrialId\", \"Score\", \"ExpectedScore\", \"NumClicks\", \"TestEnv\", \"HighRiskClicks\"]\n",
    "df_data = []\n",
    "\n",
    "bonus_data = {}\n",
    "known_workers = []\n",
    "good_responses = 0\n",
    "quiz_attempts = {}\n",
    "demographics = []\n",
    "\n",
    "# Parse raw mturk data into dataframe\n",
    "for p_index, p_data in enumerate(data[\"values\"]):\n",
    "    # Filter out empty responses\n",
    "    response_data = p_data[-1]\n",
    "    if response_data != None:\n",
    "        p_res_obj = json.loads(response_data)\n",
    "        condition = p_res_obj[\"condition\"]\n",
    "        # Obfuscate worker ID for publishing\n",
    "        worker = p_index #p_res_obj[\"workerId\"] #\n",
    "        if worker in known_workers:\n",
    "            print(\"Duplicate worker\", worker)\n",
    "        else: \n",
    "            known_workers.append(worker)\n",
    "        p_res = p_res_obj[\"data\"]\n",
    "        # Filter our incomplete trials\n",
    "        # Get last instruction index\n",
    "        # Test trials start after the last instruction\n",
    "        # Index of that in the experiment is variable due to repeated instructions/quiz\n",
    "        instruction_index = 0\n",
    "        num_quiz = 0\n",
    "        mouselab_seen = 0\n",
    "        for i in range(len(p_res)):\n",
    "            #print(p_res[i][\"trialdata\"][\"trial_type\"])\n",
    "            if p_res[i][\"trialdata\"][\"trial_type\"] == \"instructions\":\n",
    "                instruction_index = i+1\n",
    "            if p_res[i][\"trialdata\"][\"trial_type\"] == 'survey-multi-choice':\n",
    "                num_quiz += 1\n",
    "        #print(instruction_index)\n",
    "        if len(p_res) > instruction_index + 5 and (instruction_index>7):\n",
    "            if(p_res[-2][\"trialdata\"][\"trial_type\"] == \"survey-text\"):\n",
    "                try: \n",
    "                    demographics.append(p_res[-2][\"trialdata\"][\"responses\"])\n",
    "                except:\n",
    "                    pass\n",
    "            quiz_attempts[worker] = num_quiz\n",
    "            good_responses += 1\n",
    "            for i in range(instruction_index,instruction_index+5):\n",
    "                trial = p_res[i]\n",
    "                trialdata = trial[\"trialdata\"]\n",
    "                assert trialdata[\"trial_type\"] == \"mouselab-mdp\"\n",
    "                trialid = trialdata[\"trial_id\"]\n",
    "                queries = trialdata[\"queries\"][\"click\"][\"state\"][\"target\"]\n",
    "                path = trialdata[\"path\"]\n",
    "                score = trialdata[\"score\"]\n",
    "                trial_id = int(trialdata[\"trial_id\"])\n",
    "                expected_score = get_expected_score(trialdata)\n",
    "                num_risk_clicks = sum([1 for el in high_risk_clicks if str(el) in queries])\n",
    "                df_data.append([worker, condition, trialid, score, expected_score, len(queries), trial_id, num_risk_clicks])\n",
    "        else:\n",
    "            pass\n",
    "            #if instruction_index > 10:\n",
    "            #   print([p_res[i][\"trialdata\"][\"trial_type\"] for i in range(len(p_res))])\n",
    "        try:\n",
    "            bonus_data[worker] = max(p_res_obj[\"questiondata\"][\"final_bonus\"], 0.25)\n",
    "        except:\n",
    "            bonus_data[worker] = 0.25\n",
    "            pass\n",
    "            #print(\"Uncompleted but usable trial for worker\", worker)\n",
    "\n",
    "print(\"Good responses\", good_responses)\n",
    "df = pd.DataFrame(df_data, columns=df_index)"
   ]
  },
  {
   "cell_type": "code",
   "execution_count": 100,
   "metadata": {},
   "outputs": [
    {
     "output_type": "stream",
     "name": "stdout",
     "text": [
      "Number of female participants 25\nAverage age 36.979166666666664\n"
     ]
    }
   ],
   "source": [
    "# Study demographics\n",
    "\n",
    "num_female = 0\n",
    "age = 0\n",
    "age_counter = 0\n",
    "for x in demographics:\n",
    "    p = json.loads(x)\n",
    "    if p[\"Q2\"].lower().strip() == \"female\" or p[\"Q2\"].lower().strip() == \"f\":\n",
    "        num_female += 1\n",
    "    elif p[\"Q2\"].lower().strip() == \"male\" or p[\"Q2\"].lower().strip() == \"m\":\n",
    "        pass\n",
    "    else: \n",
    "        print(\"unrecognized gender\", p[\"Q2\"])\n",
    "    if p[\"Q1\"].isdigit():\n",
    "        age += int(p[\"Q1\"])\n",
    "        age_counter += 1\n",
    "    elif p[\"Q1\"] == \"20`\":\n",
    "        age += 20\n",
    "        age_counter += 1\n",
    "    else:\n",
    "        print(\"Unrecognized age\", p[\"Q1\"])\n",
    "\n",
    "\n",
    "print(\"Number of female participants\", num_female)\n",
    "print(\"Average age\", age / age_counter)"
   ]
  },
  {
   "cell_type": "code",
   "execution_count": 101,
   "metadata": {},
   "outputs": [
    {
     "output_type": "stream",
     "name": "stdout",
     "text": [
      "Exlcuded participants [9, 16, 17, 18, 22, 23, 28, 29, 30, 31, 35, 37, 38, 39, 40, 53, 54, 57, 60, 62, 63, 64]\nTotal excluded 22\n"
     ]
    }
   ],
   "source": [
    "# Exclude participants with 0 clicks\n",
    "participants = pd.DataFrame(df[df[\"NumClicks\"] == 0].groupby(\"Participant\").count()[\"NumClicks\"])\n",
    "excluded = list(participants[participants[\"NumClicks\"]>2].index)\n",
    "print(\"Exlcuded participants\", excluded)\n",
    "print(\"Total excluded\", len(excluded))"
   ]
  },
  {
   "cell_type": "code",
   "execution_count": 102,
   "metadata": {},
   "outputs": [
    {
     "output_type": "execute_result",
     "data": {
      "text/plain": [
       "130"
      ]
     },
     "metadata": {},
     "execution_count": 102
    }
   ],
   "source": [
    "df_after_exclusion = df[~df[\"Participant\"].isin(excluded)]\n",
    "df_after_exclusion.to_csv(os.getcwd() + \"/human-baseline-data/main_excluded.csv\")\n",
    "len(df_after_exclusion)"
   ]
  },
  {
   "cell_type": "code",
   "execution_count": 103,
   "metadata": {},
   "outputs": [
    {
     "output_type": "stream",
     "name": "stdout",
     "text": [
      "Total 26\n"
     ]
    }
   ],
   "source": [
    "print(\"Total\", len(df_after_exclusion[\"Participant\"].unique()))"
   ]
  },
  {
   "cell_type": "code",
   "execution_count": 104,
   "metadata": {},
   "outputs": [
    {
     "output_type": "stream",
     "name": "stdout",
     "text": [
      "Average bonus: 0.34\n",
      "Minimum bonus: 0.25\n",
      "Maximum bonus: 1.0\n",
      "Summed bonues 18.209999999999997\n",
      "\n",
      "\n",
      "0, 0.25\n",
      "1, 0.25\n",
      "2, 0.25\n",
      "3, 0.25\n",
      "8, 0.25\n",
      "9, 0.25\n",
      "10, 0.36\n",
      "11, 0.25\n",
      "13, 0.25\n",
      "15, 0.25\n",
      "16, 1\n",
      "17, 0.25\n",
      "18, 0.47\n",
      "19, 0.25\n",
      "20, 0.25\n",
      "21, 0.25\n",
      "22, 1\n",
      "23, 0.25\n",
      "24, 0.25\n",
      "25, 0.25\n",
      "26, 0.25\n",
      "28, 0.25\n",
      "29, 0.25\n",
      "30, 1\n",
      "31, 0.25\n",
      "32, 0.25\n",
      "33, 0.25\n",
      "34, 0.25\n",
      "35, 0.25\n",
      "36, 0.25\n",
      "37, 1\n",
      "38, 0.25\n",
      "39, 0.25\n",
      "40, 0.25\n",
      "42, 0.25\n",
      "45, 0.25\n",
      "46, 0.25\n",
      "47, 0.25\n",
      "48, 0.25\n",
      "49, 0.25\n",
      "50, 0.25\n",
      "52, 0.25\n",
      "53, 0.25\n",
      "54, 0.25\n",
      "56, 0.25\n",
      "57, 0.25\n",
      "58, 0.25\n",
      "59, 0.25\n",
      "60, 0.4\n",
      "61, 0.25\n",
      "62, 1\n",
      "63, 0.98\n",
      "64, 0.25\n"
     ]
    }
   ],
   "source": [
    "print(\"Average bonus:\", np.round(np.mean(list(bonus_data.values())),2))\n",
    "print(\"Minimum bonus:\", np.round(np.min(list(bonus_data.values())),2))\n",
    "print(\"Maximum bonus:\", np.round(np.max(list(bonus_data.values())),2))\n",
    "print(\"Summed bonues\", np.sum(list(bonus_data.values())))\n",
    "print(\"\\n\")\n",
    "for participant, bonus in bonus_data.items():\n",
    "    if bonus > 0:\n",
    "        print(f\"{participant}, {bonus}\")"
   ]
  },
  {
   "cell_type": "code",
   "execution_count": 105,
   "metadata": {},
   "outputs": [
    {
     "output_type": "stream",
     "name": "stdout",
     "text": [
      "No demo -79.92307692307692 74.06074589713661\n"
     ]
    },
    {
     "output_type": "display_data",
     "data": {
      "text/plain": "<Figure size 432x288 with 1 Axes>",
      "image/svg+xml": "<?xml version=\"1.0\" encoding=\"utf-8\" standalone=\"no\"?>\r\n<!DOCTYPE svg PUBLIC \"-//W3C//DTD SVG 1.1//EN\"\r\n  \"http://www.w3.org/Graphics/SVG/1.1/DTD/svg11.dtd\">\r\n<!-- Created with matplotlib (https://matplotlib.org/) -->\r\n<svg height=\"248.518125pt\" version=\"1.1\" viewBox=\"0 0 368.925 248.518125\" width=\"368.925pt\" xmlns=\"http://www.w3.org/2000/svg\" xmlns:xlink=\"http://www.w3.org/1999/xlink\">\r\n <metadata>\r\n  <rdf:RDF xmlns:cc=\"http://creativecommons.org/ns#\" xmlns:dc=\"http://purl.org/dc/elements/1.1/\" xmlns:rdf=\"http://www.w3.org/1999/02/22-rdf-syntax-ns#\">\r\n   <cc:Work>\r\n    <dc:type rdf:resource=\"http://purl.org/dc/dcmitype/StillImage\"/>\r\n    <dc:date>2021-01-31T21:43:30.455724</dc:date>\r\n    <dc:format>image/svg+xml</dc:format>\r\n    <dc:creator>\r\n     <cc:Agent>\r\n      <dc:title>Matplotlib v3.3.1, https://matplotlib.org/</dc:title>\r\n     </cc:Agent>\r\n    </dc:creator>\r\n   </cc:Work>\r\n  </rdf:RDF>\r\n </metadata>\r\n <defs>\r\n  <style type=\"text/css\">*{stroke-linecap:butt;stroke-linejoin:round;}</style>\r\n </defs>\r\n <g id=\"figure_1\">\r\n  <g id=\"patch_1\">\r\n   <path d=\"M -0 248.518125 \r\nL 368.925 248.518125 \r\nL 368.925 0 \r\nL -0 0 \r\nz\r\n\" style=\"fill:none;\"/>\r\n  </g>\r\n  <g id=\"axes_1\">\r\n   <g id=\"patch_2\">\r\n    <path d=\"M 26.925 224.64 \r\nL 361.725 224.64 \r\nL 361.725 7.2 \r\nL 26.925 7.2 \r\nz\r\n\" style=\"fill:#ffffff;\"/>\r\n   </g>\r\n   <g id=\"patch_3\">\r\n    <path clip-path=\"url(#p045a1c5d47)\" d=\"M 42.143182 224.64 \r\nL 72.579545 224.64 \r\nL 72.579545 218.723265 \r\nL 42.143182 218.723265 \r\nz\r\n\" style=\"fill:#1f77b4;\"/>\r\n   </g>\r\n   <g id=\"patch_4\">\r\n    <path clip-path=\"url(#p045a1c5d47)\" d=\"M 72.579545 224.64 \r\nL 103.015909 224.64 \r\nL 103.015909 218.723265 \r\nL 72.579545 218.723265 \r\nz\r\n\" style=\"fill:#1f77b4;\"/>\r\n   </g>\r\n   <g id=\"patch_5\">\r\n    <path clip-path=\"url(#p045a1c5d47)\" d=\"M 103.015909 224.64 \r\nL 133.452273 224.64 \r\nL 133.452273 224.64 \r\nL 103.015909 224.64 \r\nz\r\n\" style=\"fill:#1f77b4;\"/>\r\n   </g>\r\n   <g id=\"patch_6\">\r\n    <path clip-path=\"url(#p045a1c5d47)\" d=\"M 133.452273 224.64 \r\nL 163.888636 224.64 \r\nL 163.888636 195.056327 \r\nL 133.452273 195.056327 \r\nz\r\n\" style=\"fill:#1f77b4;\"/>\r\n   </g>\r\n   <g id=\"patch_7\">\r\n    <path clip-path=\"url(#p045a1c5d47)\" d=\"M 163.888636 224.64 \r\nL 194.325 224.64 \r\nL 194.325 171.389388 \r\nL 163.888636 171.389388 \r\nz\r\n\" style=\"fill:#1f77b4;\"/>\r\n   </g>\r\n   <g id=\"patch_8\">\r\n    <path clip-path=\"url(#p045a1c5d47)\" d=\"M 194.325 224.64 \r\nL 224.761364 224.64 \r\nL 224.761364 17.554286 \r\nL 194.325 17.554286 \r\nz\r\n\" style=\"fill:#1f77b4;\"/>\r\n   </g>\r\n   <g id=\"patch_9\">\r\n    <path clip-path=\"url(#p045a1c5d47)\" d=\"M 224.761364 224.64 \r\nL 255.197727 224.64 \r\nL 255.197727 41.221224 \r\nL 224.761364 41.221224 \r\nz\r\n\" style=\"fill:#1f77b4;\"/>\r\n   </g>\r\n   <g id=\"patch_10\">\r\n    <path clip-path=\"url(#p045a1c5d47)\" d=\"M 255.197727 224.64 \r\nL 285.634091 224.64 \r\nL 285.634091 118.138776 \r\nL 255.197727 118.138776 \r\nz\r\n\" style=\"fill:#1f77b4;\"/>\r\n   </g>\r\n   <g id=\"patch_11\">\r\n    <path clip-path=\"url(#p045a1c5d47)\" d=\"M 285.634091 224.64 \r\nL 316.070455 224.64 \r\nL 316.070455 153.639184 \r\nL 285.634091 153.639184 \r\nz\r\n\" style=\"fill:#1f77b4;\"/>\r\n   </g>\r\n   <g id=\"patch_12\">\r\n    <path clip-path=\"url(#p045a1c5d47)\" d=\"M 316.070455 224.64 \r\nL 346.506818 224.64 \r\nL 346.506818 118.138776 \r\nL 316.070455 118.138776 \r\nz\r\n\" style=\"fill:#1f77b4;\"/>\r\n   </g>\r\n   <g id=\"matplotlib.axis_1\">\r\n    <g id=\"xtick_1\">\r\n     <g id=\"line2d_1\">\r\n      <defs>\r\n       <path d=\"M 0 0 \r\nL 0 3.5 \r\n\" id=\"mfea9555ca5\" style=\"stroke:#000000;stroke-width:0.8;\"/>\r\n      </defs>\r\n      <g>\r\n       <use style=\"stroke:#000000;stroke-width:0.8;\" x=\"82.000325\" xlink:href=\"#mfea9555ca5\" y=\"224.64\"/>\r\n      </g>\r\n     </g>\r\n     <g id=\"text_1\">\r\n      <!-- −300 -->\r\n      <g transform=\"translate(68.266731 239.238437)scale(0.1 -0.1)\">\r\n       <defs>\r\n        <path d=\"M 10.59375 35.5 \r\nL 73.1875 35.5 \r\nL 73.1875 27.203125 \r\nL 10.59375 27.203125 \r\nz\r\n\" id=\"DejaVuSans-8722\"/>\r\n        <path d=\"M 40.578125 39.3125 \r\nQ 47.65625 37.796875 51.625 33 \r\nQ 55.609375 28.21875 55.609375 21.1875 \r\nQ 55.609375 10.40625 48.1875 4.484375 \r\nQ 40.765625 -1.421875 27.09375 -1.421875 \r\nQ 22.515625 -1.421875 17.65625 -0.515625 \r\nQ 12.796875 0.390625 7.625 2.203125 \r\nL 7.625 11.71875 \r\nQ 11.71875 9.328125 16.59375 8.109375 \r\nQ 21.484375 6.890625 26.8125 6.890625 \r\nQ 36.078125 6.890625 40.9375 10.546875 \r\nQ 45.796875 14.203125 45.796875 21.1875 \r\nQ 45.796875 27.640625 41.28125 31.265625 \r\nQ 36.765625 34.90625 28.71875 34.90625 \r\nL 20.21875 34.90625 \r\nL 20.21875 43.015625 \r\nL 29.109375 43.015625 \r\nQ 36.375 43.015625 40.234375 45.921875 \r\nQ 44.09375 48.828125 44.09375 54.296875 \r\nQ 44.09375 59.90625 40.109375 62.90625 \r\nQ 36.140625 65.921875 28.71875 65.921875 \r\nQ 24.65625 65.921875 20.015625 65.03125 \r\nQ 15.375 64.15625 9.8125 62.3125 \r\nL 9.8125 71.09375 \r\nQ 15.4375 72.65625 20.34375 73.4375 \r\nQ 25.25 74.21875 29.59375 74.21875 \r\nQ 40.828125 74.21875 47.359375 69.109375 \r\nQ 53.90625 64.015625 53.90625 55.328125 \r\nQ 53.90625 49.265625 50.4375 45.09375 \r\nQ 46.96875 40.921875 40.578125 39.3125 \r\nz\r\n\" id=\"DejaVuSans-51\"/>\r\n        <path d=\"M 31.78125 66.40625 \r\nQ 24.171875 66.40625 20.328125 58.90625 \r\nQ 16.5 51.421875 16.5 36.375 \r\nQ 16.5 21.390625 20.328125 13.890625 \r\nQ 24.171875 6.390625 31.78125 6.390625 \r\nQ 39.453125 6.390625 43.28125 13.890625 \r\nQ 47.125 21.390625 47.125 36.375 \r\nQ 47.125 51.421875 43.28125 58.90625 \r\nQ 39.453125 66.40625 31.78125 66.40625 \r\nz\r\nM 31.78125 74.21875 \r\nQ 44.046875 74.21875 50.515625 64.515625 \r\nQ 56.984375 54.828125 56.984375 36.375 \r\nQ 56.984375 17.96875 50.515625 8.265625 \r\nQ 44.046875 -1.421875 31.78125 -1.421875 \r\nQ 19.53125 -1.421875 13.0625 8.265625 \r\nQ 6.59375 17.96875 6.59375 36.375 \r\nQ 6.59375 54.828125 13.0625 64.515625 \r\nQ 19.53125 74.21875 31.78125 74.21875 \r\nz\r\n\" id=\"DejaVuSans-48\"/>\r\n       </defs>\r\n       <use xlink:href=\"#DejaVuSans-8722\"/>\r\n       <use x=\"83.789062\" xlink:href=\"#DejaVuSans-51\"/>\r\n       <use x=\"147.412109\" xlink:href=\"#DejaVuSans-48\"/>\r\n       <use x=\"211.035156\" xlink:href=\"#DejaVuSans-48\"/>\r\n      </g>\r\n     </g>\r\n    </g>\r\n    <g id=\"xtick_2\">\r\n     <g id=\"line2d_2\">\r\n      <g>\r\n       <use style=\"stroke:#000000;stroke-width:0.8;\" x=\"154.467857\" xlink:href=\"#mfea9555ca5\" y=\"224.64\"/>\r\n      </g>\r\n     </g>\r\n     <g id=\"text_2\">\r\n      <!-- −200 -->\r\n      <g transform=\"translate(140.734263 239.238437)scale(0.1 -0.1)\">\r\n       <defs>\r\n        <path d=\"M 19.1875 8.296875 \r\nL 53.609375 8.296875 \r\nL 53.609375 0 \r\nL 7.328125 0 \r\nL 7.328125 8.296875 \r\nQ 12.9375 14.109375 22.625 23.890625 \r\nQ 32.328125 33.6875 34.8125 36.53125 \r\nQ 39.546875 41.84375 41.421875 45.53125 \r\nQ 43.3125 49.21875 43.3125 52.78125 \r\nQ 43.3125 58.59375 39.234375 62.25 \r\nQ 35.15625 65.921875 28.609375 65.921875 \r\nQ 23.96875 65.921875 18.8125 64.3125 \r\nQ 13.671875 62.703125 7.8125 59.421875 \r\nL 7.8125 69.390625 \r\nQ 13.765625 71.78125 18.9375 73 \r\nQ 24.125 74.21875 28.421875 74.21875 \r\nQ 39.75 74.21875 46.484375 68.546875 \r\nQ 53.21875 62.890625 53.21875 53.421875 \r\nQ 53.21875 48.921875 51.53125 44.890625 \r\nQ 49.859375 40.875 45.40625 35.40625 \r\nQ 44.1875 33.984375 37.640625 27.21875 \r\nQ 31.109375 20.453125 19.1875 8.296875 \r\nz\r\n\" id=\"DejaVuSans-50\"/>\r\n       </defs>\r\n       <use xlink:href=\"#DejaVuSans-8722\"/>\r\n       <use x=\"83.789062\" xlink:href=\"#DejaVuSans-50\"/>\r\n       <use x=\"147.412109\" xlink:href=\"#DejaVuSans-48\"/>\r\n       <use x=\"211.035156\" xlink:href=\"#DejaVuSans-48\"/>\r\n      </g>\r\n     </g>\r\n    </g>\r\n    <g id=\"xtick_3\">\r\n     <g id=\"line2d_3\">\r\n      <g>\r\n       <use style=\"stroke:#000000;stroke-width:0.8;\" x=\"226.93539\" xlink:href=\"#mfea9555ca5\" y=\"224.64\"/>\r\n      </g>\r\n     </g>\r\n     <g id=\"text_3\">\r\n      <!-- −100 -->\r\n      <g transform=\"translate(213.201796 239.238437)scale(0.1 -0.1)\">\r\n       <defs>\r\n        <path d=\"M 12.40625 8.296875 \r\nL 28.515625 8.296875 \r\nL 28.515625 63.921875 \r\nL 10.984375 60.40625 \r\nL 10.984375 69.390625 \r\nL 28.421875 72.90625 \r\nL 38.28125 72.90625 \r\nL 38.28125 8.296875 \r\nL 54.390625 8.296875 \r\nL 54.390625 0 \r\nL 12.40625 0 \r\nz\r\n\" id=\"DejaVuSans-49\"/>\r\n       </defs>\r\n       <use xlink:href=\"#DejaVuSans-8722\"/>\r\n       <use x=\"83.789062\" xlink:href=\"#DejaVuSans-49\"/>\r\n       <use x=\"147.412109\" xlink:href=\"#DejaVuSans-48\"/>\r\n       <use x=\"211.035156\" xlink:href=\"#DejaVuSans-48\"/>\r\n      </g>\r\n     </g>\r\n    </g>\r\n    <g id=\"xtick_4\">\r\n     <g id=\"line2d_4\">\r\n      <g>\r\n       <use style=\"stroke:#000000;stroke-width:0.8;\" x=\"299.402922\" xlink:href=\"#mfea9555ca5\" y=\"224.64\"/>\r\n      </g>\r\n     </g>\r\n     <g id=\"text_4\">\r\n      <!-- 0 -->\r\n      <g transform=\"translate(296.221672 239.238437)scale(0.1 -0.1)\">\r\n       <use xlink:href=\"#DejaVuSans-48\"/>\r\n      </g>\r\n     </g>\r\n    </g>\r\n   </g>\r\n   <g id=\"matplotlib.axis_2\">\r\n    <g id=\"ytick_1\">\r\n     <g id=\"line2d_5\">\r\n      <defs>\r\n       <path d=\"M 0 0 \r\nL -3.5 0 \r\n\" id=\"m9e9bf33936\" style=\"stroke:#000000;stroke-width:0.8;\"/>\r\n      </defs>\r\n      <g>\r\n       <use style=\"stroke:#000000;stroke-width:0.8;\" x=\"26.925\" xlink:href=\"#m9e9bf33936\" y=\"224.64\"/>\r\n      </g>\r\n     </g>\r\n     <g id=\"text_5\">\r\n      <!-- 0 -->\r\n      <g transform=\"translate(13.5625 228.439219)scale(0.1 -0.1)\">\r\n       <use xlink:href=\"#DejaVuSans-48\"/>\r\n      </g>\r\n     </g>\r\n    </g>\r\n    <g id=\"ytick_2\">\r\n     <g id=\"line2d_6\">\r\n      <g>\r\n       <use style=\"stroke:#000000;stroke-width:0.8;\" x=\"26.925\" xlink:href=\"#m9e9bf33936\" y=\"195.056327\"/>\r\n      </g>\r\n     </g>\r\n     <g id=\"text_6\">\r\n      <!-- 5 -->\r\n      <g transform=\"translate(13.5625 198.855545)scale(0.1 -0.1)\">\r\n       <defs>\r\n        <path d=\"M 10.796875 72.90625 \r\nL 49.515625 72.90625 \r\nL 49.515625 64.59375 \r\nL 19.828125 64.59375 \r\nL 19.828125 46.734375 \r\nQ 21.96875 47.46875 24.109375 47.828125 \r\nQ 26.265625 48.1875 28.421875 48.1875 \r\nQ 40.625 48.1875 47.75 41.5 \r\nQ 54.890625 34.8125 54.890625 23.390625 \r\nQ 54.890625 11.625 47.5625 5.09375 \r\nQ 40.234375 -1.421875 26.90625 -1.421875 \r\nQ 22.3125 -1.421875 17.546875 -0.640625 \r\nQ 12.796875 0.140625 7.71875 1.703125 \r\nL 7.71875 11.625 \r\nQ 12.109375 9.234375 16.796875 8.0625 \r\nQ 21.484375 6.890625 26.703125 6.890625 \r\nQ 35.15625 6.890625 40.078125 11.328125 \r\nQ 45.015625 15.765625 45.015625 23.390625 \r\nQ 45.015625 31 40.078125 35.4375 \r\nQ 35.15625 39.890625 26.703125 39.890625 \r\nQ 22.75 39.890625 18.8125 39.015625 \r\nQ 14.890625 38.140625 10.796875 36.28125 \r\nz\r\n\" id=\"DejaVuSans-53\"/>\r\n       </defs>\r\n       <use xlink:href=\"#DejaVuSans-53\"/>\r\n      </g>\r\n     </g>\r\n    </g>\r\n    <g id=\"ytick_3\">\r\n     <g id=\"line2d_7\">\r\n      <g>\r\n       <use style=\"stroke:#000000;stroke-width:0.8;\" x=\"26.925\" xlink:href=\"#m9e9bf33936\" y=\"165.472653\"/>\r\n      </g>\r\n     </g>\r\n     <g id=\"text_7\">\r\n      <!-- 10 -->\r\n      <g transform=\"translate(7.2 169.271872)scale(0.1 -0.1)\">\r\n       <use xlink:href=\"#DejaVuSans-49\"/>\r\n       <use x=\"63.623047\" xlink:href=\"#DejaVuSans-48\"/>\r\n      </g>\r\n     </g>\r\n    </g>\r\n    <g id=\"ytick_4\">\r\n     <g id=\"line2d_8\">\r\n      <g>\r\n       <use style=\"stroke:#000000;stroke-width:0.8;\" x=\"26.925\" xlink:href=\"#m9e9bf33936\" y=\"135.88898\"/>\r\n      </g>\r\n     </g>\r\n     <g id=\"text_8\">\r\n      <!-- 15 -->\r\n      <g transform=\"translate(7.2 139.688198)scale(0.1 -0.1)\">\r\n       <use xlink:href=\"#DejaVuSans-49\"/>\r\n       <use x=\"63.623047\" xlink:href=\"#DejaVuSans-53\"/>\r\n      </g>\r\n     </g>\r\n    </g>\r\n    <g id=\"ytick_5\">\r\n     <g id=\"line2d_9\">\r\n      <g>\r\n       <use style=\"stroke:#000000;stroke-width:0.8;\" x=\"26.925\" xlink:href=\"#m9e9bf33936\" y=\"106.305306\"/>\r\n      </g>\r\n     </g>\r\n     <g id=\"text_9\">\r\n      <!-- 20 -->\r\n      <g transform=\"translate(7.2 110.104525)scale(0.1 -0.1)\">\r\n       <use xlink:href=\"#DejaVuSans-50\"/>\r\n       <use x=\"63.623047\" xlink:href=\"#DejaVuSans-48\"/>\r\n      </g>\r\n     </g>\r\n    </g>\r\n    <g id=\"ytick_6\">\r\n     <g id=\"line2d_10\">\r\n      <g>\r\n       <use style=\"stroke:#000000;stroke-width:0.8;\" x=\"26.925\" xlink:href=\"#m9e9bf33936\" y=\"76.721633\"/>\r\n      </g>\r\n     </g>\r\n     <g id=\"text_10\">\r\n      <!-- 25 -->\r\n      <g transform=\"translate(7.2 80.520851)scale(0.1 -0.1)\">\r\n       <use xlink:href=\"#DejaVuSans-50\"/>\r\n       <use x=\"63.623047\" xlink:href=\"#DejaVuSans-53\"/>\r\n      </g>\r\n     </g>\r\n    </g>\r\n    <g id=\"ytick_7\">\r\n     <g id=\"line2d_11\">\r\n      <g>\r\n       <use style=\"stroke:#000000;stroke-width:0.8;\" x=\"26.925\" xlink:href=\"#m9e9bf33936\" y=\"47.137959\"/>\r\n      </g>\r\n     </g>\r\n     <g id=\"text_11\">\r\n      <!-- 30 -->\r\n      <g transform=\"translate(7.2 50.937178)scale(0.1 -0.1)\">\r\n       <use xlink:href=\"#DejaVuSans-51\"/>\r\n       <use x=\"63.623047\" xlink:href=\"#DejaVuSans-48\"/>\r\n      </g>\r\n     </g>\r\n    </g>\r\n    <g id=\"ytick_8\">\r\n     <g id=\"line2d_12\">\r\n      <g>\r\n       <use style=\"stroke:#000000;stroke-width:0.8;\" x=\"26.925\" xlink:href=\"#m9e9bf33936\" y=\"17.554286\"/>\r\n      </g>\r\n     </g>\r\n     <g id=\"text_12\">\r\n      <!-- 35 -->\r\n      <g transform=\"translate(7.2 21.353504)scale(0.1 -0.1)\">\r\n       <use xlink:href=\"#DejaVuSans-51\"/>\r\n       <use x=\"63.623047\" xlink:href=\"#DejaVuSans-53\"/>\r\n      </g>\r\n     </g>\r\n    </g>\r\n   </g>\r\n   <g id=\"patch_13\">\r\n    <path d=\"M 26.925 224.64 \r\nL 26.925 7.2 \r\n\" style=\"fill:none;stroke:#000000;stroke-linecap:square;stroke-linejoin:miter;stroke-width:0.8;\"/>\r\n   </g>\r\n   <g id=\"patch_14\">\r\n    <path d=\"M 361.725 224.64 \r\nL 361.725 7.2 \r\n\" style=\"fill:none;stroke:#000000;stroke-linecap:square;stroke-linejoin:miter;stroke-width:0.8;\"/>\r\n   </g>\r\n   <g id=\"patch_15\">\r\n    <path d=\"M 26.925 224.64 \r\nL 361.725 224.64 \r\n\" style=\"fill:none;stroke:#000000;stroke-linecap:square;stroke-linejoin:miter;stroke-width:0.8;\"/>\r\n   </g>\r\n   <g id=\"patch_16\">\r\n    <path d=\"M 26.925 7.2 \r\nL 361.725 7.2 \r\n\" style=\"fill:none;stroke:#000000;stroke-linecap:square;stroke-linejoin:miter;stroke-width:0.8;\"/>\r\n   </g>\r\n  </g>\r\n </g>\r\n <defs>\r\n  <clipPath id=\"p045a1c5d47\">\r\n   <rect height=\"217.44\" width=\"334.8\" x=\"26.925\" y=\"7.2\"/>\r\n  </clipPath>\r\n </defs>\r\n</svg>\r\n",
      "image/png": "[encoded data removed]"
     },
     "metadata": {
      "needs_background": "light"
     }
    }
   ],
   "source": [
    "no_demo = df_after_exclusion[[\"ExpectedScore\"]].to_numpy().flatten()\n",
    "\n",
    "plt.hist(no_demo)\n",
    "print(\"No demo\", np.mean(no_demo), np.std(no_demo))"
   ]
  },
  {
   "cell_type": "code",
   "execution_count": 106,
   "metadata": {},
   "outputs": [
    {
     "output_type": "stream",
     "name": "stdout",
     "text": [
      "No demo normal distribution test ShapiroResult(statistic=0.9566876888275146, pvalue=0.33056268095970154)\nSignificantly worse than metacontroller Ttest_1sampResult(statistic=-13.061939983301825, pvalue=1.1421835116408777e-12)\nSignificantly worse than metacontroller WilcoxonResult(statistic=0.0, pvalue=8.256460831710365e-06)\n"
     ]
    }
   ],
   "source": [
    "# Compare average participant score to the average score of our method on the same environments\n",
    "no_demo = df_after_exclusion.groupby(\"Participant\").mean()[[\"ExpectedScore\"]].to_numpy().flatten()\n",
    "\n",
    "print(\"No demo normal distribution test\", stats.shapiro(no_demo))\n",
    "checkVal = 41 # Meta controller performance on test trials, see pilot_creation.ipynb\n",
    "# Check against 0 by subtracting the meta controller score\n",
    "\n",
    "print(\"Significantly worse than metacontroller\", stats.ttest_1samp(no_demo, checkVal))\n",
    "print(\"Significantly worse than metacontroller\", stats.wilcoxon(no_demo-checkVal))"
   ]
  },
  {
   "cell_type": "code",
   "execution_count": null,
   "metadata": {},
   "outputs": [],
   "source": []
  }
 ]
}