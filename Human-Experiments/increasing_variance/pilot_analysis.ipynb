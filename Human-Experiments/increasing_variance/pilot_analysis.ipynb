{
 "cells": [
  {
   "cell_type": "code",
   "execution_count": 1,
   "source": [
    "import pandas as pd\r\n",
    "import numpy as np\r\n",
    "from matplotlib import pyplot as plt\r\n",
    "import seaborn as sns\r\n",
    "import sys, os\r\n",
    "import plotly.express as px\r\n",
    "sys.path.append(\"C:/Users/lheindrich/Documents/Scalable-discovery/metacontroller/\")\r\n",
    "os.chdir(\"C:/Users/lheindrich/Documents/Scalable-discovery/metacontroller/\")\r\n",
    "\r\n",
    "\r\n",
    "%load_ext autoreload\r\n",
    "%autoreload 2"
   ],
   "outputs": [],
   "metadata": {}
  },
  {
   "cell_type": "code",
   "execution_count": 2,
   "source": [
    "conditions = {0: \"No demo\",\r\n",
    "    1: \"Feedback\",\r\n",
    "    2: \"Non hierarchical\",\r\n",
    "    3: \"Hierarchical\"}"
   ],
   "outputs": [],
   "metadata": {}
  },
  {
   "cell_type": "code",
   "execution_count": 3,
   "source": [
    "df_after_exclusion = pd.read_csv(\"./increasing_variance/main_excluded.csv\")\r\n",
    "df_after_exclusion[\"NamedCondition\"] = df_after_exclusion[\"Condition\"].apply(lambda x: conditions[x])"
   ],
   "outputs": [],
   "metadata": {}
  },
  {
   "cell_type": "code",
   "execution_count": 4,
   "source": [
    "accepted_participants = df_after_exclusion[\"Participant\"].unique().tolist()\r\n",
    "\r\n",
    "import json\r\n",
    "path = \"./increasing_variance/dataclips_wvfwgoxribsfopoggmsgawkfsbkt.json\"\r\n",
    "data = json.load(open(path))\r\n",
    "\r\n",
    "df_index = [\"Participant\", \"Condition\", \"TrialId\", \"Score\", \"NumClicks\", \"TestEnv\"]\r\n",
    "df_data = []\r\n",
    "\r\n",
    "goal_df_index = [\"Participant\", \"Condition\", \"TrialId\", \"FirstOptimalGoalClick\", \"OverallOptimalGoalClick\", \"FirstGoalClick\", \"OverallGoalClick\"]\r\n",
    "goal_df_data = []\r\n",
    "optimal_goal_clicks = [72, 157]\r\n",
    "goal_clicks = [4, 21, 38, 55, 72, 89, 106, 123, 140, 157]\r\n",
    "\r\n",
    "known_workers = []\r\n",
    "good_responses = 0\r\n",
    "\r\n",
    "# Parse raw mturk data into dataframe\r\n",
    "print(\"Parsing participant responses...\")\r\n",
    "for p_index, p_data in enumerate(data[\"values\"]):\r\n",
    "    # Filter out empty responses\r\n",
    "    response_data = p_data[-1]\r\n",
    "    if response_data != None:\r\n",
    "        p_res_obj = json.loads(response_data)\r\n",
    "        condition = p_res_obj[\"condition\"]\r\n",
    "        # Obfuscate worker ID for publishing\r\n",
    "        worker = p_index # p_res_obj[\"workerId\"]\r\n",
    "        if worker in known_workers:\r\n",
    "            print(\"Duplicate worker\", worker)\r\n",
    "        else: \r\n",
    "            known_workers.append(worker)\r\n",
    "        p_res = p_res_obj[\"data\"]\r\n",
    "        # Filter our incomplete trials\r\n",
    "        # Get last instruction index\r\n",
    "        # Test trials start after the last instruction\r\n",
    "        # Index of that in the experiment is variable due to repeated instructions/quiz\r\n",
    "        instruction_index = 0\r\n",
    "        # Check average training clicks of control group\r\n",
    "        if condition == 0 and worker in accepted_participants:\r\n",
    "            for i in range(len(p_res)):\r\n",
    "                if p_res[i][\"trialdata\"][\"trial_type\"] == \"instructions\":\r\n",
    "                    instruction_index = i+1\r\n",
    "            if len(p_res) > instruction_index and (instruction_index>14):\r\n",
    "                good_responses += 1\r\n",
    "                for i in range(instruction_index-11, instruction_index-1):\r\n",
    "                    trial = p_res[i]\r\n",
    "                    trialdata = trial[\"trialdata\"]\r\n",
    "                    if trialdata[\"trial_type\"] != \"mouselab-mdp\":\r\n",
    "                        print(\"Participant\", worker)\r\n",
    "                        print([p_res[i][\"trialdata\"][\"trial_type\"] for i in range(len(p_res))])\r\n",
    "                    trial = p_res[i]\r\n",
    "                    trialdata = trial[\"trialdata\"]\r\n",
    "                    trialid = trialdata[\"trial_id\"]\r\n",
    "                    queries = trialdata[\"queries\"][\"click\"][\"state\"][\"target\"]\r\n",
    "                    path = trialdata[\"path\"]\r\n",
    "                    score = trialdata[\"score\"]\r\n",
    "                    trial_id = int(trialdata[\"trial_id\"])\r\n",
    "                    df_data.append([worker, condition, trialid, score, len(queries), trial_id])\r\n",
    "        if worker in accepted_participants:\r\n",
    "            p_res_obj = json.loads(response_data)\r\n",
    "            condition = p_res_obj[\"condition\"]\r\n",
    "            # Obscure worker ID for publication\r\n",
    "            p_res = p_res_obj[\"data\"]\r\n",
    "            # Filter our incomplete trials\r\n",
    "            # Get last instruction index\r\n",
    "            # Test trials start after the last instruction\r\n",
    "            # Index of that in the experiment is variable due to repeated instructions/quiz\r\n",
    "            instruction_index = 0\r\n",
    "            for i in range(len(p_res)):\r\n",
    "                if p_res[i][\"trialdata\"][\"trial_type\"] == \"instructions\":\r\n",
    "                    instruction_index = i+1\r\n",
    "            if len(p_res) > instruction_index + 15:\r\n",
    "                good_responses += 1\r\n",
    "                for i in range(instruction_index+1,instruction_index+16):\r\n",
    "                    trial = p_res[i]\r\n",
    "                    trialdata = trial[\"trialdata\"]\r\n",
    "                    assert trialdata[\"trial_type\"] == \"mouselab-mdp\"\r\n",
    "                    trialid = trialdata[\"trial_id\"]\r\n",
    "                    queries = [int(x) for x in trialdata[\"queries\"][\"click\"][\"state\"][\"target\"]]\r\n",
    "                    if len(queries) > 0:\r\n",
    "                        first_optimal_goal_click = queries[0] in optimal_goal_clicks\r\n",
    "                        overall_optimal_goal_click = any(click in optimal_goal_clicks for click in queries)\r\n",
    "                        first_goal_click = queries[0] in goal_clicks\r\n",
    "                        overall_goal_click = any(click in goal_clicks for click in queries)\r\n",
    "                    trial_id = int(trialdata[\"trial_id\"])\r\n",
    "                    #switching_strategy = get_goal_switching_strategy(trialdata)\r\n",
    "                    #switching_times, subtree_times, goal_plan_times, goal_to_subtree_times = get_goal_switching_timings(trialdata)\r\n",
    "                    goal_df_data.append([worker, condition, trialid, first_optimal_goal_click, overall_optimal_goal_click, first_goal_click, overall_goal_click])\r\n",
    "\r\n",
    "print(\"Parsed\", good_responses, \"complete participant responses\")\r\n",
    "train_df = pd.DataFrame(df_data, columns=df_index)\r\n",
    "goal_df = pd.DataFrame(goal_df_data, columns=goal_df_index)\r\n",
    "\r\n",
    "train_df.groupby(\"Participant\").mean().groupby(\"Condition\").mean()[\"NumClicks\"]\r\n"
   ],
   "outputs": [
    {
     "output_type": "stream",
     "name": "stdout",
     "text": [
      "Parsing participant responses...\n",
      "Parsed 202 complete participant responses\n"
     ]
    },
    {
     "output_type": "execute_result",
     "data": {
      "text/plain": [
       "Condition\n",
       "0.0    14.641463\n",
       "Name: NumClicks, dtype: float64"
      ]
     },
     "metadata": {},
     "execution_count": 4
    }
   ],
   "metadata": {}
  },
  {
   "cell_type": "code",
   "execution_count": 5,
   "source": [
    "from statsmodels.stats.proportion import proportions_ztest\r\n",
    "from statsmodels.stats.multitest import multipletests\r\n",
    "counts = df_after_exclusion.groupby(\"Participant\").median().groupby(\"Condition\").sum()[\"GoalStrategy\"].astype(int).tolist()\r\n",
    "nobs = df_after_exclusion.groupby(\"Participant\").median().groupby(\"Condition\").count()[\"GoalStrategy\"].tolist()\r\n",
    "comparisons = ((3, 0), (3, 1), (3, 2))\r\n",
    "stats, pvals = [], []\r\n",
    "for comp in comparisons:  \r\n",
    "    count = np.array([counts[comp[0]], counts[comp[1]]])\r\n",
    "    nob = np.array([nobs[comp[0]], nobs[comp[1]]])\r\n",
    "    stat, pval = proportions_ztest(count, nob)\r\n",
    "    stats.append(stat)\r\n",
    "    pvals.append(pval)\r\n",
    "\r\n",
    "p_adjusted = multipletests(pvals, method=\"fdr_bh\")[1]\r\n",
    "print(pvals)\r\n",
    "print(p_adjusted)\r\n",
    "for comp, stat, pval, p_new in zip(comparisons, stats, pvals, p_adjusted):\r\n",
    "    print(f\"Z-test between condition {conditions[comp[0]]} and {conditions[comp[1]]}: z={np.round(stat, 3)}, p={np.round(pval, 3)}, corrected={np.round(p_new, 3)}\")\r\n"
   ],
   "outputs": [
    {
     "output_type": "stream",
     "name": "stdout",
     "text": [
      "[0.006938237411559043, 0.005272741512837511, 0.5417388743743989]\n",
      "[0.01040736 0.01040736 0.54173887]\n",
      "Z-test between condition Hierarchical and No demo: z=2.7, p=0.007, corrected=0.01\n",
      "Z-test between condition Hierarchical and Feedback: z=2.79, p=0.005, corrected=0.01\n",
      "Z-test between condition Hierarchical and Non hierarchical: z=0.61, p=0.542, corrected=0.542\n"
     ]
    }
   ],
   "metadata": {}
  },
  {
   "cell_type": "code",
   "execution_count": 6,
   "source": [
    "# Check how many participants get initial goal clicks correct: [72, 157]\r\n",
    "# Check how many participants click most profitable goals at all\r\n",
    "assert len(goal_df[\"Participant\"].unique()) == len(df_after_exclusion[\"Participant\"].unique())\r\n",
    "assert goal_df[\"TrialId\"].mean() == df_after_exclusion[\"TrialId\"].mean()\r\n",
    "goal_df.groupby(\"Condition\").mean()\r\n"
   ],
   "outputs": [
    {
     "output_type": "execute_result",
     "data": {
      "text/html": [
       "<div>\n",
       "<style scoped>\n",
       "    .dataframe tbody tr th:only-of-type {\n",
       "        vertical-align: middle;\n",
       "    }\n",
       "\n",
       "    .dataframe tbody tr th {\n",
       "        vertical-align: top;\n",
       "    }\n",
       "\n",
       "    .dataframe thead th {\n",
       "        text-align: right;\n",
       "    }\n",
       "</style>\n",
       "<table border=\"1\" class=\"dataframe\">\n",
       "  <thead>\n",
       "    <tr style=\"text-align: right;\">\n",
       "      <th></th>\n",
       "      <th>Participant</th>\n",
       "      <th>TrialId</th>\n",
       "      <th>FirstOptimalGoalClick</th>\n",
       "      <th>OverallOptimalGoalClick</th>\n",
       "      <th>FirstGoalClick</th>\n",
       "      <th>OverallGoalClick</th>\n",
       "    </tr>\n",
       "    <tr>\n",
       "      <th>Condition</th>\n",
       "      <th></th>\n",
       "      <th></th>\n",
       "      <th></th>\n",
       "      <th></th>\n",
       "      <th></th>\n",
       "      <th></th>\n",
       "    </tr>\n",
       "  </thead>\n",
       "  <tbody>\n",
       "    <tr>\n",
       "      <th>0</th>\n",
       "      <td>184.170732</td>\n",
       "      <td>15.0</td>\n",
       "      <td>0.507317</td>\n",
       "      <td>0.926829</td>\n",
       "      <td>0.936585</td>\n",
       "      <td>0.97561</td>\n",
       "    </tr>\n",
       "    <tr>\n",
       "      <th>1</th>\n",
       "      <td>166.743590</td>\n",
       "      <td>15.0</td>\n",
       "      <td>0.565812</td>\n",
       "      <td>0.981197</td>\n",
       "      <td>0.993162</td>\n",
       "      <td>1.00000</td>\n",
       "    </tr>\n",
       "    <tr>\n",
       "      <th>2</th>\n",
       "      <td>182.100000</td>\n",
       "      <td>15.0</td>\n",
       "      <td>0.576667</td>\n",
       "      <td>0.941667</td>\n",
       "      <td>0.993333</td>\n",
       "      <td>1.00000</td>\n",
       "    </tr>\n",
       "    <tr>\n",
       "      <th>3</th>\n",
       "      <td>179.634146</td>\n",
       "      <td>15.0</td>\n",
       "      <td>0.621138</td>\n",
       "      <td>0.988618</td>\n",
       "      <td>0.993496</td>\n",
       "      <td>1.00000</td>\n",
       "    </tr>\n",
       "  </tbody>\n",
       "</table>\n",
       "</div>"
      ],
      "text/plain": [
       "           Participant  TrialId  FirstOptimalGoalClick  \\\n",
       "Condition                                                \n",
       "0           184.170732     15.0               0.507317   \n",
       "1           166.743590     15.0               0.565812   \n",
       "2           182.100000     15.0               0.576667   \n",
       "3           179.634146     15.0               0.621138   \n",
       "\n",
       "           OverallOptimalGoalClick  FirstGoalClick  OverallGoalClick  \n",
       "Condition                                                             \n",
       "0                         0.926829        0.936585           0.97561  \n",
       "1                         0.981197        0.993162           1.00000  \n",
       "2                         0.941667        0.993333           1.00000  \n",
       "3                         0.988618        0.993496           1.00000  "
      ]
     },
     "metadata": {},
     "execution_count": 6
    }
   ],
   "metadata": {}
  },
  {
   "cell_type": "code",
   "execution_count": 7,
   "source": [
    "print(\"Total\", len(df_after_exclusion[\"Participant\"].unique()))\r\n",
    "df_after_exclusion.groupby([\"Condition\", \"Participant\"]).count()[\"TrialId\"].reset_index().groupby(\"Condition\").count()"
   ],
   "outputs": [
    {
     "output_type": "stream",
     "name": "stdout",
     "text": [
      "Total 161\n"
     ]
    },
    {
     "output_type": "execute_result",
     "data": {
      "text/html": [
       "<div>\n",
       "<style scoped>\n",
       "    .dataframe tbody tr th:only-of-type {\n",
       "        vertical-align: middle;\n",
       "    }\n",
       "\n",
       "    .dataframe tbody tr th {\n",
       "        vertical-align: top;\n",
       "    }\n",
       "\n",
       "    .dataframe thead th {\n",
       "        text-align: right;\n",
       "    }\n",
       "</style>\n",
       "<table border=\"1\" class=\"dataframe\">\n",
       "  <thead>\n",
       "    <tr style=\"text-align: right;\">\n",
       "      <th></th>\n",
       "      <th>Participant</th>\n",
       "      <th>TrialId</th>\n",
       "    </tr>\n",
       "    <tr>\n",
       "      <th>Condition</th>\n",
       "      <th></th>\n",
       "      <th></th>\n",
       "    </tr>\n",
       "  </thead>\n",
       "  <tbody>\n",
       "    <tr>\n",
       "      <th>0</th>\n",
       "      <td>41</td>\n",
       "      <td>41</td>\n",
       "    </tr>\n",
       "    <tr>\n",
       "      <th>1</th>\n",
       "      <td>39</td>\n",
       "      <td>39</td>\n",
       "    </tr>\n",
       "    <tr>\n",
       "      <th>2</th>\n",
       "      <td>40</td>\n",
       "      <td>40</td>\n",
       "    </tr>\n",
       "    <tr>\n",
       "      <th>3</th>\n",
       "      <td>41</td>\n",
       "      <td>41</td>\n",
       "    </tr>\n",
       "  </tbody>\n",
       "</table>\n",
       "</div>"
      ],
      "text/plain": [
       "           Participant  TrialId\n",
       "Condition                      \n",
       "0                   41       41\n",
       "1                   39       39\n",
       "2                   40       40\n",
       "3                   41       41"
      ]
     },
     "metadata": {},
     "execution_count": 7
    }
   ],
   "metadata": {}
  },
  {
   "cell_type": "code",
   "execution_count": 8,
   "source": [
    "# Click Agreement\r\n",
    "dfs = []\r\n",
    "for category in (\"ClickAgreement\", \"GoalAgreement\", \"SubgoalAgreement\", \"TermAgreement\"):\r\n",
    "    partial_df = df_after_exclusion[[\"Condition\", category]].copy()\r\n",
    "    partial_df.columns = [\"Condition\", \"Agreement\"]\r\n",
    "    partial_df[\"Measurement\"] = category\r\n",
    "    dfs.append(partial_df)\r\n",
    "agreement_df = pd.concat(dfs)\r\n",
    "ax = sns.barplot(data=agreement_df[~agreement_df[\"Agreement\"].isna()], x=\"Condition\", y=\"Agreement\", hue=\"Measurement\")\r\n",
    "_ = ax.set_xticklabels([conditions[x] for x in ax.get_xticks()], rotation=-30, ha='left')\r\n",
    "_ = ax.set_title(\"Click agreement measures\")\r\n",
    "plt.legend(bbox_to_anchor=(1.05, 1), loc=2, borderaxespad=0.)\r\n",
    "plt.tight_layout()\r\n",
    "plt.savefig(\"./increasing_variance/img/click_agreement.png\")"
   ],
   "outputs": [
    {
     "output_type": "display_data",
     "data": {
      "image/png": "[encoded data removed]",
      "text/plain": [
       "<Figure size 432x288 with 1 Axes>"
      ]
     },
     "metadata": {
      "needs_background": "light"
     }
    }
   ],
   "metadata": {}
  },
  {
   "cell_type": "code",
   "execution_count": 9,
   "source": [
    "# Plot of scores per condition\r\n",
    "\r\n",
    "score_per_trial = df_after_exclusion.groupby([\"Condition\", \"TrialId\"]).mean()[[\"Score\", \"ExpectedScore\"]]\r\n",
    "score_per_trial = score_per_trial.reset_index()\r\n",
    "\r\n",
    "\r\n",
    "plt.plot(\"TrialId\", \"ExpectedScore\", data=score_per_trial[score_per_trial[\"Condition\"]==0], label=\"No demo\")\r\n",
    "plt.plot(\"TrialId\", \"ExpectedScore\", data=score_per_trial[score_per_trial[\"Condition\"]==1], label=\"Feedback\")\r\n",
    "plt.plot(\"TrialId\", \"ExpectedScore\", data=score_per_trial[score_per_trial[\"Condition\"]==2], label=\"Non hierarchical\")\r\n",
    "plt.plot(\"TrialId\", \"ExpectedScore\", data=score_per_trial[score_per_trial[\"Condition\"]==3], label=\"Hierarchical\")\r\n",
    "plt.xlabel(\"Trial ID\")\r\n",
    "plt.ylabel(\"Expected Score\")\r\n",
    "plt.legend()"
   ],
   "outputs": [
    {
     "output_type": "execute_result",
     "data": {
      "text/plain": [
       "<matplotlib.legend.Legend at 0x26575017310>"
      ]
     },
     "metadata": {},
     "execution_count": 9
    },
    {
     "output_type": "display_data",
     "data": {
      "image/png": "[encoded data removed]",
      "text/plain": [
       "<Figure size 432x288 with 1 Axes>"
      ]
     },
     "metadata": {
      "needs_background": "light"
     }
    }
   ],
   "metadata": {}
  },
  {
   "cell_type": "code",
   "execution_count": 10,
   "source": [
    "ax = sns.barplot(data=df_after_exclusion.groupby(\"Participant\").median(), x=\"Condition\", y=\"GoalStrategy\")\r\n",
    "\r\n",
    "_ = ax.set_xticklabels([conditions[x] for x in ax.get_xticks()], rotation=-30, ha='left')\r\n",
    "plt.title(\"Goal selection strategy\")\r\n",
    "plt.tight_layout()\r\n",
    "plt.savefig(\"./increasing_variance/img/goal_strategy.png\")"
   ],
   "outputs": [
    {
     "output_type": "display_data",
     "data": {
      "image/png": "[encoded data removed]",
      "text/plain": [
       "<Figure size 432x288 with 1 Axes>"
      ]
     },
     "metadata": {
      "needs_background": "light"
     }
    }
   ],
   "metadata": {}
  },
  {
   "cell_type": "code",
   "execution_count": 11,
   "source": [
    "df_after_exclusion.groupby(\"Participant\").median().groupby(\"Condition\").agg([\"mean\"])[\"GoalStrategy\"]"
   ],
   "outputs": [
    {
     "output_type": "execute_result",
     "data": {
      "text/html": [
       "<div>\n",
       "<style scoped>\n",
       "    .dataframe tbody tr th:only-of-type {\n",
       "        vertical-align: middle;\n",
       "    }\n",
       "\n",
       "    .dataframe tbody tr th {\n",
       "        vertical-align: top;\n",
       "    }\n",
       "\n",
       "    .dataframe thead th {\n",
       "        text-align: right;\n",
       "    }\n",
       "</style>\n",
       "<table border=\"1\" class=\"dataframe\">\n",
       "  <thead>\n",
       "    <tr style=\"text-align: right;\">\n",
       "      <th></th>\n",
       "      <th>mean</th>\n",
       "    </tr>\n",
       "    <tr>\n",
       "      <th>Condition</th>\n",
       "      <th></th>\n",
       "    </tr>\n",
       "  </thead>\n",
       "  <tbody>\n",
       "    <tr>\n",
       "      <th>0.0</th>\n",
       "      <td>0.780488</td>\n",
       "    </tr>\n",
       "    <tr>\n",
       "      <th>1.0</th>\n",
       "      <td>0.769231</td>\n",
       "    </tr>\n",
       "    <tr>\n",
       "      <th>2.0</th>\n",
       "      <td>0.950000</td>\n",
       "    </tr>\n",
       "    <tr>\n",
       "      <th>3.0</th>\n",
       "      <td>0.975610</td>\n",
       "    </tr>\n",
       "  </tbody>\n",
       "</table>\n",
       "</div>"
      ],
      "text/plain": [
       "               mean\n",
       "Condition          \n",
       "0.0        0.780488\n",
       "1.0        0.769231\n",
       "2.0        0.950000\n",
       "3.0        0.975610"
      ]
     },
     "metadata": {},
     "execution_count": 11
    }
   ],
   "metadata": {}
  },
  {
   "cell_type": "code",
   "execution_count": 12,
   "source": [
    "click_agreement_per_participant = df_after_exclusion.groupby(\"Participant\").mean()[[\"Condition\", \"ClickAgreement\"]]\r\n",
    "click_agreement_per_participant[\"LearnedStrategy\"] = click_agreement_per_participant[\"ClickAgreement\"] > 0.33\r\n",
    "click_agreement_per_participant.groupby(\"Condition\").mean()[\"LearnedStrategy\"]"
   ],
   "outputs": [
    {
     "output_type": "execute_result",
     "data": {
      "text/plain": [
       "Condition\n",
       "0.0    0.073171\n",
       "1.0    0.282051\n",
       "2.0    0.225000\n",
       "3.0    0.731707\n",
       "Name: LearnedStrategy, dtype: float64"
      ]
     },
     "metadata": {},
     "execution_count": 12
    }
   ],
   "metadata": {}
  },
  {
   "cell_type": "code",
   "execution_count": 13,
   "source": [
    "df_after_exclusion.groupby(\"Condition\").agg([\"mean\", \"std\"])[[\"ExpectedScore\", \"ClickAgreement\", \"GoalAgreement\", \"SubgoalAgreement\", \"TermAgreement\", \"GoalTermAgreement\", \"SubgoalTermAgreement\"]].round(4)"
   ],
   "outputs": [
    {
     "output_type": "execute_result",
     "data": {
      "text/html": [
       "<div>\n",
       "<style scoped>\n",
       "    .dataframe tbody tr th:only-of-type {\n",
       "        vertical-align: middle;\n",
       "    }\n",
       "\n",
       "    .dataframe tbody tr th {\n",
       "        vertical-align: top;\n",
       "    }\n",
       "\n",
       "    .dataframe thead tr th {\n",
       "        text-align: left;\n",
       "    }\n",
       "\n",
       "    .dataframe thead tr:last-of-type th {\n",
       "        text-align: right;\n",
       "    }\n",
       "</style>\n",
       "<table border=\"1\" class=\"dataframe\">\n",
       "  <thead>\n",
       "    <tr>\n",
       "      <th></th>\n",
       "      <th colspan=\"2\" halign=\"left\">ExpectedScore</th>\n",
       "      <th colspan=\"2\" halign=\"left\">ClickAgreement</th>\n",
       "      <th colspan=\"2\" halign=\"left\">GoalAgreement</th>\n",
       "      <th colspan=\"2\" halign=\"left\">SubgoalAgreement</th>\n",
       "      <th colspan=\"2\" halign=\"left\">TermAgreement</th>\n",
       "      <th colspan=\"2\" halign=\"left\">GoalTermAgreement</th>\n",
       "      <th colspan=\"2\" halign=\"left\">SubgoalTermAgreement</th>\n",
       "    </tr>\n",
       "    <tr>\n",
       "      <th></th>\n",
       "      <th>mean</th>\n",
       "      <th>std</th>\n",
       "      <th>mean</th>\n",
       "      <th>std</th>\n",
       "      <th>mean</th>\n",
       "      <th>std</th>\n",
       "      <th>mean</th>\n",
       "      <th>std</th>\n",
       "      <th>mean</th>\n",
       "      <th>std</th>\n",
       "      <th>mean</th>\n",
       "      <th>std</th>\n",
       "      <th>mean</th>\n",
       "      <th>std</th>\n",
       "    </tr>\n",
       "    <tr>\n",
       "      <th>Condition</th>\n",
       "      <th></th>\n",
       "      <th></th>\n",
       "      <th></th>\n",
       "      <th></th>\n",
       "      <th></th>\n",
       "      <th></th>\n",
       "      <th></th>\n",
       "      <th></th>\n",
       "      <th></th>\n",
       "      <th></th>\n",
       "      <th></th>\n",
       "      <th></th>\n",
       "      <th></th>\n",
       "      <th></th>\n",
       "    </tr>\n",
       "  </thead>\n",
       "  <tbody>\n",
       "    <tr>\n",
       "      <th>0</th>\n",
       "      <td>177.3626</td>\n",
       "      <td>95.0423</td>\n",
       "      <td>0.2208</td>\n",
       "      <td>0.1234</td>\n",
       "      <td>0.3253</td>\n",
       "      <td>0.2123</td>\n",
       "      <td>0.1782</td>\n",
       "      <td>0.1744</td>\n",
       "      <td>0.7541</td>\n",
       "      <td>0.2077</td>\n",
       "      <td>0.7656</td>\n",
       "      <td>0.2663</td>\n",
       "      <td>0.6862</td>\n",
       "      <td>0.2258</td>\n",
       "    </tr>\n",
       "    <tr>\n",
       "      <th>1</th>\n",
       "      <td>167.0222</td>\n",
       "      <td>103.4207</td>\n",
       "      <td>0.2744</td>\n",
       "      <td>0.1269</td>\n",
       "      <td>0.3808</td>\n",
       "      <td>0.1926</td>\n",
       "      <td>0.2300</td>\n",
       "      <td>0.2211</td>\n",
       "      <td>0.7646</td>\n",
       "      <td>0.1764</td>\n",
       "      <td>0.7545</td>\n",
       "      <td>0.2448</td>\n",
       "      <td>0.6820</td>\n",
       "      <td>0.2255</td>\n",
       "    </tr>\n",
       "    <tr>\n",
       "      <th>2</th>\n",
       "      <td>181.5767</td>\n",
       "      <td>93.6312</td>\n",
       "      <td>0.2851</td>\n",
       "      <td>0.1345</td>\n",
       "      <td>0.3702</td>\n",
       "      <td>0.2250</td>\n",
       "      <td>0.3037</td>\n",
       "      <td>0.2041</td>\n",
       "      <td>0.7213</td>\n",
       "      <td>0.1761</td>\n",
       "      <td>0.7268</td>\n",
       "      <td>0.2761</td>\n",
       "      <td>0.6569</td>\n",
       "      <td>0.2044</td>\n",
       "    </tr>\n",
       "    <tr>\n",
       "      <th>3</th>\n",
       "      <td>204.4797</td>\n",
       "      <td>83.1569</td>\n",
       "      <td>0.3584</td>\n",
       "      <td>0.1506</td>\n",
       "      <td>0.3486</td>\n",
       "      <td>0.1786</td>\n",
       "      <td>0.4445</td>\n",
       "      <td>0.2566</td>\n",
       "      <td>0.7822</td>\n",
       "      <td>0.1771</td>\n",
       "      <td>0.8286</td>\n",
       "      <td>0.1984</td>\n",
       "      <td>0.7161</td>\n",
       "      <td>0.2284</td>\n",
       "    </tr>\n",
       "  </tbody>\n",
       "</table>\n",
       "</div>"
      ],
      "text/plain": [
       "          ExpectedScore           ClickAgreement         GoalAgreement  \\\n",
       "                   mean       std           mean     std          mean   \n",
       "Condition                                                                \n",
       "0              177.3626   95.0423         0.2208  0.1234        0.3253   \n",
       "1              167.0222  103.4207         0.2744  0.1269        0.3808   \n",
       "2              181.5767   93.6312         0.2851  0.1345        0.3702   \n",
       "3              204.4797   83.1569         0.3584  0.1506        0.3486   \n",
       "\n",
       "                  SubgoalAgreement         TermAgreement          \\\n",
       "              std             mean     std          mean     std   \n",
       "Condition                                                          \n",
       "0          0.2123           0.1782  0.1744        0.7541  0.2077   \n",
       "1          0.1926           0.2300  0.2211        0.7646  0.1764   \n",
       "2          0.2250           0.3037  0.2041        0.7213  0.1761   \n",
       "3          0.1786           0.4445  0.2566        0.7822  0.1771   \n",
       "\n",
       "          GoalTermAgreement         SubgoalTermAgreement          \n",
       "                       mean     std                 mean     std  \n",
       "Condition                                                         \n",
       "0                    0.7656  0.2663               0.6862  0.2258  \n",
       "1                    0.7545  0.2448               0.6820  0.2255  \n",
       "2                    0.7268  0.2761               0.6569  0.2044  \n",
       "3                    0.8286  0.1984               0.7161  0.2284  "
      ]
     },
     "metadata": {},
     "execution_count": 13
    }
   ],
   "metadata": {}
  },
  {
   "cell_type": "code",
   "execution_count": null,
   "source": [],
   "outputs": [],
   "metadata": {}
  },
  {
   "cell_type": "code",
   "execution_count": 14,
   "source": [
    "g = sns.displot(data=df_after_exclusion, x=\"ClickAgreement\", col=\"Condition\", facet_kws=dict(margin_titles=True))\r\n",
    "\r\n",
    "axes = g.axes.flatten()\r\n",
    "axes[0].set_title(\"No demonstration\")\r\n",
    "axes[1].set_title(\"Optimal feedback\")\r\n",
    "axes[2].set_title(\"Non hierarchical\")\r\n",
    "axes[3].set_title(\"Hierarchical\")"
   ],
   "outputs": [
    {
     "output_type": "execute_result",
     "data": {
      "text/plain": [
       "Text(0.5, 1.0, 'Hierarchical')"
      ]
     },
     "metadata": {},
     "execution_count": 14
    },
    {
     "output_type": "display_data",
     "data": {
      "image/png": "[encoded data removed]",
      "text/plain": [
       "<Figure size 1440x360 with 4 Axes>"
      ]
     },
     "metadata": {
      "needs_background": "light"
     }
    }
   ],
   "metadata": {}
  },
  {
   "cell_type": "code",
   "execution_count": 15,
   "source": [
    "sns.barplot(x=\"Condition\",y=\"ExpectedScore\",data=df_after_exclusion)"
   ],
   "outputs": [
    {
     "output_type": "execute_result",
     "data": {
      "text/plain": [
       "<AxesSubplot:xlabel='Condition', ylabel='ExpectedScore'>"
      ]
     },
     "metadata": {},
     "execution_count": 15
    },
    {
     "output_type": "display_data",
     "data": {
      "image/png": "[encoded data removed]",
      "text/plain": [
       "<Figure size 432x288 with 1 Axes>"
      ]
     },
     "metadata": {
      "needs_background": "light"
     }
    }
   ],
   "metadata": {}
  },
  {
   "cell_type": "code",
   "execution_count": null,
   "source": [],
   "outputs": [],
   "metadata": {}
  }
 ],
 "metadata": {
  "interpreter": {
   "hash": "1ef12662dc7dee12a08eeef83536c3a10cba5e7ce21f3e6387a3d13489bccd74"
  },
  "kernelspec": {
   "name": "python3",
   "display_name": "Python 3.8.10 64-bit ('cogtut': conda)"
  },
  "language_info": {
   "codemirror_mode": {
    "name": "ipython",
    "version": 3
   },
   "file_extension": ".py",
   "mimetype": "text/x-python",
   "name": "python",
   "nbconvert_exporter": "python",
   "pygments_lexer": "ipython3",
   "version": "3.8.10"
  },
  "orig_nbformat": 2
 },
 "nbformat": 4,
 "nbformat_minor": 2
}