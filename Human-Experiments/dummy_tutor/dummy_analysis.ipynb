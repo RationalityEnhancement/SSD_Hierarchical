{
 "cells": [
  {
   "cell_type": "code",
   "execution_count": 1,
   "source": [
    "import pandas as pd\r\n",
    "import numpy as np\r\n",
    "from matplotlib import pyplot as plt\r\n",
    "import seaborn as sns\r\n",
    "import sys, os\r\n",
    "sys.path.append(\"C:/Users/lheindrich/Documents/Scalable-discovery/metacontroller/\")\r\n",
    "os.chdir(\"C:/Users/lheindrich/Documents/Scalable-discovery/metacontroller/\")\r\n",
    "\r\n",
    "%load_ext autoreload\r\n",
    "%autoreload 2\r\n",
    "sns.set(style=\"darkgrid\")"
   ],
   "outputs": [],
   "metadata": {}
  },
  {
   "cell_type": "code",
   "execution_count": 2,
   "source": [
    "conditions = {\r\n",
    "    0: \"RandomTutor\",\r\n",
    "    1: \"StrategyTutor\"\r\n",
    "}"
   ],
   "outputs": [],
   "metadata": {}
  },
  {
   "cell_type": "code",
   "execution_count": 3,
   "source": [
    "# path = os.getcwd() + \"/dummy_tutor/prolific_export_611e1af8e9640d2fdf6f0ac4 (1).csv\"\r\n",
    "# def prolific_completion_time(path: str):\r\n",
    "#     df = pd.read_csv(path)\r\n",
    "#     times = df.loc[df[\"status\"]==\"APPROVED\", [\"time_taken\"]].mean() / 60\r\n",
    "#     print(\"Average completion time:\", times)\r\n",
    "\r\n",
    "# prolific_completion_time(path)"
   ],
   "outputs": [],
   "metadata": {}
  },
  {
   "cell_type": "code",
   "execution_count": 4,
   "source": [
    "survey = pd.read_csv(os.getcwd() + \"/dummy_tutor/survey.csv\")\r\n",
    "\r\n",
    "print(\"Average age\", survey[\"What is your age?\"].mean())\r\n",
    "print(f\"Age range from {survey['What is your age?'].min()} to {survey['What is your age?'].max()}\")\r\n",
    "\r\n",
    "male = [\"male\", \"malei\", \"man\", \"m\"]\r\n",
    "female = [\"female\", \"f\", \"woman\", \"w\"]\r\n",
    "genders = [x.strip().lower() for x in  survey[\"What gender do you identify with?\"].tolist()]\r\n",
    "print(\"Male:\", len([x for x in genders if x in male]))\r\n",
    "print(\"Female:\", len([x for x in genders if x in female]))\r\n",
    "print(\"Other:\", [x for x in genders if x not in male+female])"
   ],
   "outputs": [
    {
     "output_type": "stream",
     "name": "stdout",
     "text": [
      "Average age 25.06\n",
      "Age range from 18 to 48\n",
      "Male: 47\n",
      "Female: 53\n",
      "Other: []\n"
     ]
    }
   ],
   "metadata": {}
  },
  {
   "cell_type": "code",
   "execution_count": 5,
   "source": [
    "df_after_exclusion = pd.read_csv(os.getcwd() + \"/dummy_tutor/main_excluded.csv\", converters={'AgreementDetails': eval})\r\n",
    "df_after_exclusion[\"NamedCondition\"] = df_after_exclusion[\"Condition\"].apply(lambda x: conditions[x])"
   ],
   "outputs": [],
   "metadata": {}
  },
  {
   "cell_type": "code",
   "execution_count": 6,
   "source": [
    "print(\"Total participants\", len(df_after_exclusion[\"Participant\"].unique()))\r\n",
    "df_after_exclusion.groupby([\"NamedCondition\", \"Participant\"]).count()[\"TrialId\"].reset_index().groupby(\"NamedCondition\").count()"
   ],
   "outputs": [
    {
     "output_type": "stream",
     "name": "stdout",
     "text": [
      "Total participants 78\n"
     ]
    },
    {
     "output_type": "execute_result",
     "data": {
      "text/html": [
       "<div>\n",
       "<style scoped>\n",
       "    .dataframe tbody tr th:only-of-type {\n",
       "        vertical-align: middle;\n",
       "    }\n",
       "\n",
       "    .dataframe tbody tr th {\n",
       "        vertical-align: top;\n",
       "    }\n",
       "\n",
       "    .dataframe thead th {\n",
       "        text-align: right;\n",
       "    }\n",
       "</style>\n",
       "<table border=\"1\" class=\"dataframe\">\n",
       "  <thead>\n",
       "    <tr style=\"text-align: right;\">\n",
       "      <th></th>\n",
       "      <th>Participant</th>\n",
       "      <th>TrialId</th>\n",
       "    </tr>\n",
       "    <tr>\n",
       "      <th>NamedCondition</th>\n",
       "      <th></th>\n",
       "      <th></th>\n",
       "    </tr>\n",
       "  </thead>\n",
       "  <tbody>\n",
       "    <tr>\n",
       "      <th>RandomTutor</th>\n",
       "      <td>36</td>\n",
       "      <td>36</td>\n",
       "    </tr>\n",
       "    <tr>\n",
       "      <th>StrategyTutor</th>\n",
       "      <td>42</td>\n",
       "      <td>42</td>\n",
       "    </tr>\n",
       "  </tbody>\n",
       "</table>\n",
       "</div>"
      ],
      "text/plain": [
       "                Participant  TrialId\n",
       "NamedCondition                      \n",
       "RandomTutor              36       36\n",
       "StrategyTutor            42       42"
      ]
     },
     "metadata": {},
     "execution_count": 6
    }
   ],
   "metadata": {}
  },
  {
   "cell_type": "code",
   "execution_count": 7,
   "source": [
    "from statsmodels.stats.proportion import proportions_ztest\r\n",
    "from statsmodels.stats.multitest import multipletests\r\n",
    "counts = df_after_exclusion.groupby(\"Participant\").median().groupby(\"Condition\").sum()[\"GoalStrategy\"].astype(int).tolist()\r\n",
    "nobs = df_after_exclusion.groupby(\"Participant\").median().groupby(\"Condition\").count()[\"GoalStrategy\"].tolist()\r\n",
    "\r\n",
    "count = np.array([counts[1], counts[0]])\r\n",
    "nob = np.array([nobs[1], nobs[0]])\r\n",
    "stat, pval = proportions_ztest(count, nob)\r\n",
    "\r\n",
    "print(f\"Z-test between condition {conditions[0]} and {conditions[1]}: z={np.round(stat, 3)}, p={np.round(pval, 5)}\")"
   ],
   "outputs": [
    {
     "output_type": "stream",
     "name": "stdout",
     "text": [
      "Z-test between condition RandomTutor and StrategyTutor: z=3.324, p=0.00089\n"
     ]
    }
   ],
   "metadata": {}
  },
  {
   "cell_type": "code",
   "execution_count": 8,
   "source": [
    "sns.histplot(data=df_after_exclusion.groupby(\"Participant\").mean(), x=\"ExpectedScore\", hue=\"Condition\")"
   ],
   "outputs": [
    {
     "output_type": "execute_result",
     "data": {
      "text/plain": [
       "<AxesSubplot:xlabel='ExpectedScore', ylabel='Count'>"
      ]
     },
     "metadata": {},
     "execution_count": 8
    },
    {
     "output_type": "display_data",
     "data": {
      "image/png": "[encoded data removed]",
      "text/plain": [
       "<Figure size 432x288 with 1 Axes>"
      ]
     },
     "metadata": {}
    }
   ],
   "metadata": {}
  },
  {
   "cell_type": "code",
   "execution_count": 9,
   "source": [
    "# Check outlier impact (not reported)\r\n",
    "participant_df = df_after_exclusion.groupby(\"Participant\").mean()\r\n",
    "excl = list(participant_df[participant_df[\"ExpectedScore\"]<-200].index)\r\n",
    "\r\n",
    "df_after_exclusion[~df_after_exclusion[\"Participant\"].isin(excl)].groupby(\"Condition\").agg([\"mean\", \"median\", \"std\"])[[\"ExpectedScore\"]]"
   ],
   "outputs": [
    {
     "output_type": "execute_result",
     "data": {
      "text/html": [
       "<div>\n",
       "<style scoped>\n",
       "    .dataframe tbody tr th:only-of-type {\n",
       "        vertical-align: middle;\n",
       "    }\n",
       "\n",
       "    .dataframe tbody tr th {\n",
       "        vertical-align: top;\n",
       "    }\n",
       "\n",
       "    .dataframe thead tr th {\n",
       "        text-align: left;\n",
       "    }\n",
       "\n",
       "    .dataframe thead tr:last-of-type th {\n",
       "        text-align: right;\n",
       "    }\n",
       "</style>\n",
       "<table border=\"1\" class=\"dataframe\">\n",
       "  <thead>\n",
       "    <tr>\n",
       "      <th></th>\n",
       "      <th colspan=\"3\" halign=\"left\">ExpectedScore</th>\n",
       "    </tr>\n",
       "    <tr>\n",
       "      <th></th>\n",
       "      <th>mean</th>\n",
       "      <th>median</th>\n",
       "      <th>std</th>\n",
       "    </tr>\n",
       "    <tr>\n",
       "      <th>Condition</th>\n",
       "      <th></th>\n",
       "      <th></th>\n",
       "      <th></th>\n",
       "    </tr>\n",
       "  </thead>\n",
       "  <tbody>\n",
       "    <tr>\n",
       "      <th>0</th>\n",
       "      <td>-68.257143</td>\n",
       "      <td>-90.0</td>\n",
       "      <td>82.054910</td>\n",
       "    </tr>\n",
       "    <tr>\n",
       "      <th>1</th>\n",
       "      <td>-46.789474</td>\n",
       "      <td>-60.0</td>\n",
       "      <td>76.809445</td>\n",
       "    </tr>\n",
       "  </tbody>\n",
       "</table>\n",
       "</div>"
      ],
      "text/plain": [
       "          ExpectedScore                  \n",
       "                   mean median        std\n",
       "Condition                                \n",
       "0            -68.257143  -90.0  82.054910\n",
       "1            -46.789474  -60.0  76.809445"
      ]
     },
     "metadata": {},
     "execution_count": 9
    }
   ],
   "metadata": {}
  },
  {
   "cell_type": "code",
   "execution_count": 10,
   "source": [
    "# Click Agreement\r\n",
    "dfs = []\r\n",
    "for category in (\"ClickAgreement\", \"GoalAgreement\", \"SubgoalAgreement\"):\r\n",
    "    partial_df = df_after_exclusion[[\"Condition\", category]].copy()\r\n",
    "    partial_df.columns = [\"Condition\", \"Agreement\"]\r\n",
    "    partial_df[\"Measurement\"] = category\r\n",
    "    dfs.append(partial_df)\r\n",
    "agreement_df = pd.concat(dfs)\r\n",
    "ax = sns.barplot(data=agreement_df[~agreement_df[\"Agreement\"].isna()], x=\"Condition\", y=\"Agreement\", hue=\"Measurement\")\r\n",
    "_ = ax.set_xticklabels([conditions[x] for x in ax.get_xticks()], rotation=-30, ha='left')\r\n",
    "_ = ax.set_title(\"Click agreement measures\")\r\n",
    "plt.legend(bbox_to_anchor=(1.05, 1), loc=2, borderaxespad=0.)\r\n",
    "plt.tight_layout()\r\n",
    "plt.savefig(\"./dummy_tutor/img/click_agreement.png\")"
   ],
   "outputs": [
    {
     "output_type": "display_data",
     "data": {
      "image/png": "[encoded data removed]",
      "text/plain": [
       "<Figure size 432x288 with 1 Axes>"
      ]
     },
     "metadata": {}
    }
   ],
   "metadata": {}
  },
  {
   "cell_type": "code",
   "execution_count": 11,
   "source": [
    "ax = sns.barplot(data=df_after_exclusion.groupby(\"Participant\").median(), x=\"Condition\", y=\"GoalStrategy\")\r\n",
    "\r\n",
    "_ = ax.set_xticklabels([conditions[x] for x in ax.get_xticks()], rotation=-30, ha='left')\r\n",
    "\r\n",
    "plt.title(\"Goal selection strategy\")\r\n",
    "plt.tight_layout()\r\n",
    "plt.savefig(\"./dummy_tutor/img/goal_strategy.png\")"
   ],
   "outputs": [
    {
     "output_type": "display_data",
     "data": {
      "image/png": "[encoded data removed]",
      "text/plain": [
       "<Figure size 432x288 with 1 Axes>"
      ]
     },
     "metadata": {}
    }
   ],
   "metadata": {}
  },
  {
   "cell_type": "code",
   "execution_count": 12,
   "source": [
    "df_after_exclusion.groupby(\"Participant\").median().groupby(\"Condition\").agg([\"mean\"])[\"GoalStrategy\"]"
   ],
   "outputs": [
    {
     "output_type": "execute_result",
     "data": {
      "text/html": [
       "<div>\n",
       "<style scoped>\n",
       "    .dataframe tbody tr th:only-of-type {\n",
       "        vertical-align: middle;\n",
       "    }\n",
       "\n",
       "    .dataframe tbody tr th {\n",
       "        vertical-align: top;\n",
       "    }\n",
       "\n",
       "    .dataframe thead th {\n",
       "        text-align: right;\n",
       "    }\n",
       "</style>\n",
       "<table border=\"1\" class=\"dataframe\">\n",
       "  <thead>\n",
       "    <tr style=\"text-align: right;\">\n",
       "      <th></th>\n",
       "      <th>mean</th>\n",
       "    </tr>\n",
       "    <tr>\n",
       "      <th>Condition</th>\n",
       "      <th></th>\n",
       "    </tr>\n",
       "  </thead>\n",
       "  <tbody>\n",
       "    <tr>\n",
       "      <th>0.0</th>\n",
       "      <td>0.222222</td>\n",
       "    </tr>\n",
       "    <tr>\n",
       "      <th>1.0</th>\n",
       "      <td>0.595238</td>\n",
       "    </tr>\n",
       "  </tbody>\n",
       "</table>\n",
       "</div>"
      ],
      "text/plain": [
       "               mean\n",
       "Condition          \n",
       "0.0        0.222222\n",
       "1.0        0.595238"
      ]
     },
     "metadata": {},
     "execution_count": 12
    }
   ],
   "metadata": {}
  },
  {
   "cell_type": "code",
   "execution_count": 13,
   "source": [
    "click_agreement_per_participant = df_after_exclusion.groupby(\"Participant\").mean()[[\"Condition\", \"ClickAgreement\"]]\r\n",
    "click_agreement_per_participant[\"LearnedStrategy\"] = click_agreement_per_participant[\"ClickAgreement\"] > 0.5\r\n",
    "click_agreement_per_participant.groupby(\"Condition\").mean()[\"LearnedStrategy\"]"
   ],
   "outputs": [
    {
     "output_type": "execute_result",
     "data": {
      "text/plain": [
       "Condition\n",
       "0.0    0.027778\n",
       "1.0    0.476190\n",
       "Name: LearnedStrategy, dtype: float64"
      ]
     },
     "metadata": {},
     "execution_count": 13
    }
   ],
   "metadata": {}
  },
  {
   "cell_type": "code",
   "execution_count": 14,
   "source": [
    "sns.barplot(data=df_after_exclusion, x=\"Condition\", y=\"ExpectedScore\")"
   ],
   "outputs": [
    {
     "output_type": "execute_result",
     "data": {
      "text/plain": [
       "<AxesSubplot:xlabel='Condition', ylabel='ExpectedScore'>"
      ]
     },
     "metadata": {},
     "execution_count": 14
    },
    {
     "output_type": "display_data",
     "data": {
      "image/png": "[encoded data removed]",
      "text/plain": [
       "<Figure size 432x288 with 1 Axes>"
      ]
     },
     "metadata": {}
    }
   ],
   "metadata": {}
  },
  {
   "cell_type": "code",
   "execution_count": 15,
   "source": [
    "from scipy.stats import iqr\r\n",
    "df_after_exclusion.groupby(\"NamedCondition\")[\"ExpectedScore\"].agg([\"median\", iqr])"
   ],
   "outputs": [
    {
     "output_type": "execute_result",
     "data": {
      "text/html": [
       "<div>\n",
       "<style scoped>\n",
       "    .dataframe tbody tr th:only-of-type {\n",
       "        vertical-align: middle;\n",
       "    }\n",
       "\n",
       "    .dataframe tbody tr th {\n",
       "        vertical-align: top;\n",
       "    }\n",
       "\n",
       "    .dataframe thead th {\n",
       "        text-align: right;\n",
       "    }\n",
       "</style>\n",
       "<table border=\"1\" class=\"dataframe\">\n",
       "  <thead>\n",
       "    <tr style=\"text-align: right;\">\n",
       "      <th></th>\n",
       "      <th>median</th>\n",
       "      <th>iqr</th>\n",
       "    </tr>\n",
       "    <tr>\n",
       "      <th>NamedCondition</th>\n",
       "      <th></th>\n",
       "      <th></th>\n",
       "    </tr>\n",
       "  </thead>\n",
       "  <tbody>\n",
       "    <tr>\n",
       "      <th>RandomTutor</th>\n",
       "      <td>-90.0</td>\n",
       "      <td>121.25</td>\n",
       "    </tr>\n",
       "    <tr>\n",
       "      <th>StrategyTutor</th>\n",
       "      <td>-57.5</td>\n",
       "      <td>145.00</td>\n",
       "    </tr>\n",
       "  </tbody>\n",
       "</table>\n",
       "</div>"
      ],
      "text/plain": [
       "                median     iqr\n",
       "NamedCondition                \n",
       "RandomTutor      -90.0  121.25\n",
       "StrategyTutor    -57.5  145.00"
      ]
     },
     "metadata": {},
     "execution_count": 15
    }
   ],
   "metadata": {}
  },
  {
   "cell_type": "code",
   "execution_count": 16,
   "source": [
    "df_after_exclusion.groupby(\"Condition\").agg([\"mean\", \"std\"])[[\"ExpectedScore\", \"ClickAgreement\",\"GoalAgreement\", \"SubgoalAgreement\", \"TermAgreement\",\"GoalTermAgreement\",\"SubgoalTermAgreement\"]].round(4)"
   ],
   "outputs": [
    {
     "output_type": "execute_result",
     "data": {
      "text/html": [
       "<div>\n",
       "<style scoped>\n",
       "    .dataframe tbody tr th:only-of-type {\n",
       "        vertical-align: middle;\n",
       "    }\n",
       "\n",
       "    .dataframe tbody tr th {\n",
       "        vertical-align: top;\n",
       "    }\n",
       "\n",
       "    .dataframe thead tr th {\n",
       "        text-align: left;\n",
       "    }\n",
       "\n",
       "    .dataframe thead tr:last-of-type th {\n",
       "        text-align: right;\n",
       "    }\n",
       "</style>\n",
       "<table border=\"1\" class=\"dataframe\">\n",
       "  <thead>\n",
       "    <tr>\n",
       "      <th></th>\n",
       "      <th colspan=\"2\" halign=\"left\">ExpectedScore</th>\n",
       "      <th colspan=\"2\" halign=\"left\">ClickAgreement</th>\n",
       "      <th colspan=\"2\" halign=\"left\">GoalAgreement</th>\n",
       "      <th colspan=\"2\" halign=\"left\">SubgoalAgreement</th>\n",
       "      <th colspan=\"2\" halign=\"left\">TermAgreement</th>\n",
       "      <th colspan=\"2\" halign=\"left\">GoalTermAgreement</th>\n",
       "      <th colspan=\"2\" halign=\"left\">SubgoalTermAgreement</th>\n",
       "    </tr>\n",
       "    <tr>\n",
       "      <th></th>\n",
       "      <th>mean</th>\n",
       "      <th>std</th>\n",
       "      <th>mean</th>\n",
       "      <th>std</th>\n",
       "      <th>mean</th>\n",
       "      <th>std</th>\n",
       "      <th>mean</th>\n",
       "      <th>std</th>\n",
       "      <th>mean</th>\n",
       "      <th>std</th>\n",
       "      <th>mean</th>\n",
       "      <th>std</th>\n",
       "      <th>mean</th>\n",
       "      <th>std</th>\n",
       "    </tr>\n",
       "    <tr>\n",
       "      <th>Condition</th>\n",
       "      <th></th>\n",
       "      <th></th>\n",
       "      <th></th>\n",
       "      <th></th>\n",
       "      <th></th>\n",
       "      <th></th>\n",
       "      <th></th>\n",
       "      <th></th>\n",
       "      <th></th>\n",
       "      <th></th>\n",
       "      <th></th>\n",
       "      <th></th>\n",
       "      <th></th>\n",
       "      <th></th>\n",
       "    </tr>\n",
       "  </thead>\n",
       "  <tbody>\n",
       "    <tr>\n",
       "      <th>0</th>\n",
       "      <td>-79.7778</td>\n",
       "      <td>148.4894</td>\n",
       "      <td>0.2528</td>\n",
       "      <td>0.2303</td>\n",
       "      <td>0.5355</td>\n",
       "      <td>0.3892</td>\n",
       "      <td>0.3994</td>\n",
       "      <td>0.3829</td>\n",
       "      <td>0.6603</td>\n",
       "      <td>0.2282</td>\n",
       "      <td>0.6537</td>\n",
       "      <td>0.3184</td>\n",
       "      <td>0.6700</td>\n",
       "      <td>0.3064</td>\n",
       "    </tr>\n",
       "    <tr>\n",
       "      <th>1</th>\n",
       "      <td>-69.1429</td>\n",
       "      <td>211.6041</td>\n",
       "      <td>0.4871</td>\n",
       "      <td>0.2825</td>\n",
       "      <td>0.7161</td>\n",
       "      <td>0.3171</td>\n",
       "      <td>0.5778</td>\n",
       "      <td>0.4043</td>\n",
       "      <td>0.7297</td>\n",
       "      <td>0.1944</td>\n",
       "      <td>0.7192</td>\n",
       "      <td>0.3070</td>\n",
       "      <td>0.6751</td>\n",
       "      <td>0.3576</td>\n",
       "    </tr>\n",
       "  </tbody>\n",
       "</table>\n",
       "</div>"
      ],
      "text/plain": [
       "          ExpectedScore           ClickAgreement         GoalAgreement  \\\n",
       "                   mean       std           mean     std          mean   \n",
       "Condition                                                                \n",
       "0              -79.7778  148.4894         0.2528  0.2303        0.5355   \n",
       "1              -69.1429  211.6041         0.4871  0.2825        0.7161   \n",
       "\n",
       "                  SubgoalAgreement         TermAgreement          \\\n",
       "              std             mean     std          mean     std   \n",
       "Condition                                                          \n",
       "0          0.3892           0.3994  0.3829        0.6603  0.2282   \n",
       "1          0.3171           0.5778  0.4043        0.7297  0.1944   \n",
       "\n",
       "          GoalTermAgreement         SubgoalTermAgreement          \n",
       "                       mean     std                 mean     std  \n",
       "Condition                                                         \n",
       "0                    0.6537  0.3184               0.6700  0.3064  \n",
       "1                    0.7192  0.3070               0.6751  0.3576  "
      ]
     },
     "metadata": {},
     "execution_count": 16
    }
   ],
   "metadata": {}
  },
  {
   "cell_type": "code",
   "execution_count": 17,
   "source": [
    "sns.barplot(x=\"Condition\",y=\"ExpectedScore\",data=df_after_exclusion)"
   ],
   "outputs": [
    {
     "output_type": "execute_result",
     "data": {
      "text/plain": [
       "<AxesSubplot:xlabel='Condition', ylabel='ExpectedScore'>"
      ]
     },
     "metadata": {},
     "execution_count": 17
    },
    {
     "output_type": "display_data",
     "data": {
      "image/png": "[encoded data removed]",
      "text/plain": [
       "<Figure size 432x288 with 1 Axes>"
      ]
     },
     "metadata": {}
    }
   ],
   "metadata": {}
  },
  {
   "cell_type": "code",
   "execution_count": 18,
   "source": [
    "df_after_exclusion.groupby(\"Condition\").std()[\"ExpectedScore\"]"
   ],
   "outputs": [
    {
     "output_type": "execute_result",
     "data": {
      "text/plain": [
       "Condition\n",
       "0    148.489435\n",
       "1    211.604100\n",
       "Name: ExpectedScore, dtype: float64"
      ]
     },
     "metadata": {},
     "execution_count": 18
    }
   ],
   "metadata": {}
  },
  {
   "cell_type": "code",
   "execution_count": null,
   "source": [],
   "outputs": [],
   "metadata": {}
  },
  {
   "cell_type": "code",
   "execution_count": null,
   "source": [],
   "outputs": [],
   "metadata": {}
  }
 ],
 "metadata": {
  "interpreter": {
   "hash": "1ef12662dc7dee12a08eeef83536c3a10cba5e7ce21f3e6387a3d13489bccd74"
  },
  "kernelspec": {
   "name": "python3",
   "display_name": "Python 3.8.10 64-bit ('cogtut': conda)"
  },
  "language_info": {
   "name": "python",
   "version": "3.8.10",
   "mimetype": "text/x-python",
   "codemirror_mode": {
    "name": "ipython",
    "version": 3
   },
   "pygments_lexer": "ipython3",
   "nbconvert_exporter": "python",
   "file_extension": ".py"
  },
  "orig_nbformat": 2
 },
 "nbformat": 4,
 "nbformat_minor": 2
}