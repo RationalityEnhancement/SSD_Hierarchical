{
 "cells": [
  {
   "cell_type": "code",
   "execution_count": 15,
   "metadata": {},
   "outputs": [],
   "source": [
    "import pandas as pd\n",
    "import numpy as np\n",
    "import requests\n",
    "import json\n",
    "from datetime import datetime\n",
    "import matplotlib.pyplot as plt\n",
    "from scipy.stats import ttest_ind\n",
    "from collections import Counter, defaultdict"
   ]
  },
  {
   "cell_type": "code",
   "execution_count": 16,
   "metadata": {},
   "outputs": [],
   "source": [
    "data_url = \"https://data.heroku.com/dataclips/ouwgbrnpidvmnknflsjhpziwkthe.json?access-token=5b33f8a0-2f7a-4f86-8885-5ebb54df0af5\"\n",
    "#data_url = \"https://data.heroku.com/dataclips/ouwgbrnpidvmnknflsjhpziwkthe.json?access-token=5b33f8a0-2f7a-4f86-8885-5ebb54df0af5\"\n",
    "#data_url = \"https://data.heroku.com/dataclips/wuvgmaaogmtawpqguturnsewzgoa.json?access-token=9855f9b6-a0b3-4299-92e4-3e480bce357d\"\n",
    "#data_url = \"https://data.heroku.com/dataclips/wuvgmaaogmtawpqguturnsewzgoa.json?access-token=9855f9b6-a0b3-4299-92e4-3e480bce357d\""
   ]
  },
  {
   "cell_type": "code",
   "execution_count": 17,
   "metadata": {},
   "outputs": [],
   "source": [
    "hit_id = '31ANT7FQN89OXUPLFCQGUX3R6WI5HX' # Main run main exp"
   ]
  },
  {
   "cell_type": "code",
   "execution_count": 18,
   "metadata": {},
   "outputs": [
    {
     "name": "stdout",
     "output_type": "stream",
     "text": [
      "230.26000000000005\n",
      "141 141\n"
     ]
    }
   ],
   "source": [
    "url = data_url\n",
    "json_object = requests.get(url).json()\n",
    "participant_info = []\n",
    "count = 0\n",
    "total_bonus = 0\n",
    "pid = set()\n",
    "real_participants = {}\n",
    "\n",
    "time_data = []\n",
    "bonuses = {}\n",
    "p_conditions = {}\n",
    "p_bonuses = {}\n",
    "worker_ids = []\n",
    "assignment_ids = []\n",
    "#print(json_object[\"values\"][0])\n",
    "for idx_participant, participant_data in enumerate(json_object[\"values\"]):\n",
    "    #print(participant_data)\n",
    "    if  (participant_data[4] !=\"127.0.0.1\") and (participant_data[-2] == \"live\") and (participant_data[-3] == 4) and participant_data[3] == hit_id:\n",
    "        time_data.append([participant_data[12], participant_data[13]])\n",
    "        d = json.loads(participant_data[-1])\n",
    "        json_data = d[\"data\"]\n",
    "        count += 1\n",
    "        try:\n",
    "            #print(idx_participant, len(participant_data[-1]), participant_data[-3],  participant_data[1], participant_data[2],participant_data[3],json_data[0][\"trialdata\"][\"time_elapsed\"]/60/60,json.loads(participant_data[-1])[\"questiondata\"][\"final_bonus\"])\n",
    "            pid.add(participant_data[2])\n",
    "            worker_ids.append(participant_data[2])\n",
    "            assignment_ids.append(participant_data[1])\n",
    "            x = json.loads(participant_data[-1])[\"questiondata\"][\"final_bonus\"]\n",
    "            #print(x)\n",
    "            bonus = float(x)\n",
    "            if bonus < 0:\n",
    "                bonus = 0\n",
    "            p_bonuses[participant_data[2]] = x\n",
    "            total_bonus += bonus\n",
    "            bonuses[participant_data[2]] = bonus\n",
    "            participant_info.append([idx_participant, len(participant_data[-1]), participant_data[-3],  participant_data[1], participant_data[2],participant_data[3],json_data[0][\"trialdata\"][\"time_elapsed\"]/60/60,json.loads(participant_data[-1])[\"questiondata\"][\"final_bonus\"]])\n",
    "            participant_df = pd.DataFrame([trial[\"trialdata\"] for trial in json.loads(participant_data[-1])[\"data\"]])\n",
    "            participant_df[\"pid\"] = idx_participant\n",
    "            real_participants[participant_data[2]] = participant_df\n",
    "            p_conditions[participant_data[2]] = d['condition']\n",
    "        except Exception as e:\n",
    "            print(e)\n",
    "#             print(idx_participant,len(participant_data[-1]), participant_data[-3],  participant_data[1],  participant_data[2], participant_data[3],  np.nan, np.nan)\n",
    "#             participant_info.append([idx_participant,len(participant_data[-1]), participant_data[-3],  participant_data[1],  participant_data[2], participant_data[3],  np.nan, np.nan])\n",
    "#print(count)\n",
    "print(total_bonus)\n",
    "print(len(worker_ids), len(assignment_ids))\n",
    "#print(real_participants)"
   ]
  },
  {
   "cell_type": "code",
   "execution_count": 19,
   "metadata": {},
   "outputs": [
    {
     "name": "stdout",
     "output_type": "stream",
     "text": [
      "141\n"
     ]
    }
   ],
   "source": [
    "print(len(real_participants))"
   ]
  },
  {
   "cell_type": "code",
   "execution_count": 20,
   "metadata": {},
   "outputs": [
    {
     "name": "stdout",
     "output_type": "stream",
     "text": [
      "141\n",
      "[2, 5, 1, 5, 2, 5, 1, 1, 1, 3, 1, 2, 10, 3, 2, 3, 3, 3, 1, 2, 8, 6, 1, 12, 2, 12, 2, 3, 2, 8, 6, 1, 8, 3, 2, 11, 4, 1, 1, 3, 14, 1, 2, 2, 4, 3, 6, 6, 11, 1, 2, 3, 1, 1, 1, 2, 1, 4, 3, 1, 1, 1, 1, 1, 3, 1, 2, 3, 3, 1, 1, 1, 1, 1, 1, 21, 3, 4, 1, 2, 1, 1, 1, 1, 1, 1, 12, 1, 1, 4, 4, 3, 3, 2, 1, 2, 2, 16, 1, 12, 3, 9, 5, 1, 1, 11, 2, 1, 7, 1, 1, 6, 1, 1, 1, 11, 1, 1, 1, 3, 5, 1, 1, 1, 2, 1, 1, 1, 1, 1, 1, 1, 28, 5, 1, 5, 1, 9, 7, 2, 2]\n",
      "0.7730496453900709\n",
      "109\n"
     ]
    }
   ],
   "source": [
    "num_quizes = []\n",
    "max_q = 4\n",
    "print(len(worker_ids))\n",
    "for i, w in enumerate(worker_ids):\n",
    "    participant_df = real_participants[w]\n",
    "    quiz_df = participant_df[participant_df.trial_type == \"survey-multi-choice\"]\n",
    "    num_quizes.append(len(quiz_df))\n",
    "print(num_quizes)\n",
    "idxs = [i for i, q in enumerate(num_quizes) if q<=max_q]\n",
    "print(len(idxs)/len(num_quizes))\n",
    "print(len(idxs))"
   ]
  },
  {
   "cell_type": "code",
   "execution_count": 21,
   "metadata": {},
   "outputs": [
    {
     "name": "stdout",
     "output_type": "stream",
     "text": [
      "[2, 1, 2, 1, 1, 1, 3, 1, 2, 3, 2, 3, 3, 3, 1, 2, 1, 2, 2, 3, 2, 1, 3, 2, 4, 1, 1, 3, 1, 2, 2, 4, 3, 1, 2, 3, 1, 1, 1, 2, 1, 4, 3, 1, 1, 1, 1, 1, 3, 1, 2, 3, 3, 1, 1, 1, 1, 1, 1, 3, 4, 1, 2, 1, 1, 1, 1, 1, 1, 1, 1, 4, 4, 3, 3, 2, 1, 2, 2, 1, 3, 1, 1, 2, 1, 1, 1, 1, 1, 1, 1, 1, 1, 3, 1, 1, 1, 2, 1, 1, 1, 1, 1, 1, 1, 1, 1, 2, 2] 92 [13, 329, 43, 63, 141, 10, 138, 284, 120, 54, 88, 8, 135, 304, 4, 229, 130, 19, 65, 112, 326, 112, 14, 88, 81, 84, 1, 88, 47, 108, 94, 5, 50, 218, 328, 329, 2, 329, 133, 99, 324, 80, 219, 23, 89, 95, 9, 213, 329, 327, 166, 100, 95, 2, 128, 33, 1, 7, 28, 110, 56, 156, 68, 117, 3, 5, 63, 7, 328, 49, 97, 82, 110, 60, 111, 105, 95, 62, 22, 72, 40, 64, 109, 72, 1, 61, 88, 73, 62, 73, 90, 168] 17\n"
     ]
    }
   ],
   "source": [
    "p_scores = {}\n",
    "p_click_sequences = {}\n",
    "p_ground_truths = {}\n",
    "p_num_clicks = {}\n",
    "condition_num_clicks = defaultdict(list)\n",
    "data = defaultdict(lambda: defaultdict())\n",
    "num_quizes = []\n",
    "n_p = 0\n",
    "c = 0\n",
    "n_cs = []\n",
    "for i, w in enumerate(worker_ids):\n",
    "    if i in idxs:\n",
    "        participant_df = real_participants[w]\n",
    "        quiz_df = participant_df[participant_df.trial_type == \"survey-multi-choice\"]\n",
    "        num_quizes.append(len(quiz_df))\n",
    "        condition = p_conditions[w]\n",
    "        temp_df = participant_df[participant_df.trial_type==\"mouselab-mdp\"]\n",
    "        scores = temp_df.score.tolist()\n",
    "        queries = temp_df['queries'].tolist()\n",
    "        click_sequences = [[int(q) for q in query['click']['state']['target']] + [0] for query in queries]\n",
    "        num_clicks = [len(click_sequence) for click_sequence in click_sequences]\n",
    "        click_count = Counter(num_clicks)\n",
    "        ground_truths = temp_df['stateRewards'].tolist()\n",
    "        ground_truths = [[0] + gt[1:] for gt in ground_truths]\n",
    "        n_c = sum([len(cs) for cs in click_sequences[-10:]])\n",
    "        if n_c == 10: # Disengagement check\n",
    "            c += 1\n",
    "            continue\n",
    "        n_cs.append(n_c-10)\n",
    "        n_p += 1\n",
    "        p_scores[i] = scores\n",
    "        p_ground_truths[i] = ground_truths\n",
    "        p_click_sequences[i] = click_sequences\n",
    "        p_num_clicks[i] = [len(click_sequence)-1 for click_sequence in click_sequences]\n",
    "        data['ground_truths'] = p_ground_truths\n",
    "        data['clicks'] = p_click_sequences\n",
    "        data['scores'] = p_scores\n",
    "        condition_num_clicks[condition].append(p_num_clicks[i])\n",
    "print(num_quizes, n_p, n_cs, c)"
   ]
  },
  {
   "cell_type": "code",
   "execution_count": 22,
   "metadata": {},
   "outputs": [
    {
     "name": "stdout",
     "output_type": "stream",
     "text": [
      "92\n"
     ]
    }
   ],
   "source": [
    "print(len(data['clicks']))"
   ]
  }
 ],
 "metadata": {
  "kernelspec": {
   "display_name": "Python 3.7.3 64-bit ('cogtut': conda)",
   "language": "python",
   "name": "python37364bitcogtutconda3e89249cb8f1438ca66244f989548773"
  },
  "language_info": {
   "codemirror_mode": {
    "name": "ipython",
    "version": 3
   },
   "file_extension": ".py",
   "mimetype": "text/x-python",
   "name": "python",
   "nbconvert_exporter": "python",
   "pygments_lexer": "ipython3",
   "version": "3.7.3"
  }
 },
 "nbformat": 4,
 "nbformat_minor": 2
}
