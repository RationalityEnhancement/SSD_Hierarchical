{
 "metadata": {
  "language_info": {
   "codemirror_mode": {
    "name": "ipython",
    "version": 3
   },
   "file_extension": ".py",
   "mimetype": "text/x-python",
   "name": "python",
   "nbconvert_exporter": "python",
   "pygments_lexer": "ipython3",
   "version": "3.8.5-final"
  },
  "orig_nbformat": 2,
  "kernelspec": {
   "name": "python3",
   "display_name": "Python 3",
   "language": "python"
  }
 },
 "nbformat": 4,
 "nbformat_minor": 2,
 "cells": [
  {
   "cell_type": "code",
   "execution_count": 1,
   "metadata": {},
   "outputs": [],
   "source": [
    "import json\n",
    "import pandas as pd\n",
    "import numpy as np\n",
    "from matplotlib import pyplot as plt\n",
    "from scipy import stats\n",
    "import sys, os\n",
    "sys.path.append(\"C:/Users/lheindrich/Documents/Scalable-discovery/metacontroller/\")\n",
    "os.chdir(\"C:/Users/lheindrich/Documents/Scalable-discovery/metacontroller/\")\n",
    "\n",
    "from utils.distributions import Categorical"
   ]
  },
  {
   "cell_type": "code",
   "execution_count": 2,
   "metadata": {},
   "outputs": [],
   "source": [
    "path = os.getcwd() + \"/pilot3-data/dataclips_cifnrkyusmfzozrjxaylwlrwxmfv.json\" # 3 + 4\n",
    "\n",
    "data = json.load(open(path))\n",
    "\n",
    "high_risk_clicks = [8, 23, 38, 53]\n",
    "goal_clicks = [15,30,45,60]\n",
    "COST = 10\n",
    "high_risk_click_reward = -1500 * 0.1\n",
    "goal_reward = 50\n",
    "meta_expected_scores = [65, 45, 60, 45, 60]\n",
    "hierarchical_expected_scores =  [75, 55, -1460, 55, 70]"
   ]
  },
  {
   "cell_type": "code",
   "execution_count": 3,
   "metadata": {},
   "outputs": [],
   "source": [
    "def get_expected_score(trialdata, COST=COST):\n",
    "    path = trialdata[\"path\"]\n",
    "    queries = trialdata[\"queries\"][\"click\"][\"state\"][\"target\"]\n",
    "    # Replace first element with 0 for root\n",
    "    ground_truth =  [0] + trialdata[\"stateRewards\"][1:]\n",
    "    reward = 0\n",
    "    #print(path)\n",
    "    #print(high_risk_clicks)\n",
    "    for node in path:\n",
    "        if node in queries or (int(node) in queries):\n",
    "            reward += ground_truth[int(node)]\n",
    "        else:\n",
    "            if (node in high_risk_clicks) or (int(node) in high_risk_clicks):\n",
    "                reward += high_risk_click_reward #Probability of triggering high risk event * negative reward of high risk event\n",
    "            elif (node in goal_clicks) or (int(node) in goal_clicks):\n",
    "                reward += goal_reward\n",
    "            else:\n",
    "                reward += 0 # Depends on experiment, in this case the expectation of all other nodes is 0\n",
    "    # Click cost\n",
    "    reward -= len(queries) * COST\n",
    "    return reward"
   ]
  },
  {
   "cell_type": "code",
   "execution_count": 4,
   "metadata": {
    "tags": []
   },
   "outputs": [
    {
     "output_type": "stream",
     "name": "stdout",
     "text": [
      "Good responses 199\n"
     ]
    }
   ],
   "source": [
    "df_index = [\"Participant\", \"Condition\", \"TrialId\", \"Score\", \"ExpectedScore\", \"NumClicks\", \"TestEnv\", \"HighRiskClicks\"]\n",
    "df_data = []\n",
    "\n",
    "bonus_data = {}\n",
    "known_workers = []\n",
    "good_responses = 0\n",
    "demographics = []\n",
    "\n",
    "# Parse raw mturk data into dataframe\n",
    "for p_index, p_data in enumerate(data[\"values\"]):\n",
    "    # Filter out empty responses\n",
    "    response_data = p_data[-1]\n",
    "    if response_data != None:\n",
    "        p_res_obj = json.loads(response_data)\n",
    "        condition = p_res_obj[\"condition\"]\n",
    "        # Obfuscate worker ID for publishing\n",
    "        worker = p_index # p_res_obj[\"workerId\"]\n",
    "        if worker in known_workers:\n",
    "            print(\"Duplicate worker\", worker)\n",
    "        else: \n",
    "            known_workers.append(worker)\n",
    "        p_res = p_res_obj[\"data\"]\n",
    "        # Filter our incomplete trials\n",
    "        # Get last instruction index\n",
    "        # Test trials start after the last instruction\n",
    "        # Index of that in the experiment is variable due to repeated instructions/quiz\n",
    "        instruction_index = 0\n",
    "        for i in range(len(p_res)):\n",
    "            #print(p_res[i][\"trialdata\"][\"trial_type\"])\n",
    "            if p_res[i][\"trialdata\"][\"trial_type\"] == \"instructions\":\n",
    "                instruction_index = i+1\n",
    "        #print(instruction_index)\n",
    "        if len(p_res) > instruction_index + 5 and (instruction_index>14):\n",
    "            if(p_res[-2][\"trialdata\"][\"trial_type\"] == \"survey-text\"):\n",
    "                try: \n",
    "                    demographics.append(p_res[-2][\"trialdata\"][\"responses\"])\n",
    "                except:\n",
    "                    pass\n",
    "            good_responses += 1\n",
    "            for i in range(instruction_index,instruction_index+5):\n",
    "                trial = p_res[i]\n",
    "                trialdata = trial[\"trialdata\"]\n",
    "                assert trialdata[\"trial_type\"] == \"mouselab-mdp\"\n",
    "                trialid = trialdata[\"trial_id\"]\n",
    "                queries = trialdata[\"queries\"][\"click\"][\"state\"][\"target\"]\n",
    "                path = trialdata[\"path\"]\n",
    "                score = trialdata[\"score\"]\n",
    "                trial_id = int(trialdata[\"trial_id\"])\n",
    "                expected_score = get_expected_score(trialdata)\n",
    "                num_risk_clicks = sum([1 for el in high_risk_clicks if str(el) in queries])\n",
    "                df_data.append([worker, condition, trialid, score, expected_score, len(queries), trial_id, num_risk_clicks])\n",
    "        else:\n",
    "            pass\n",
    "            #if instruction_index > 14:\n",
    "            #    print([p_res[i][\"trialdata\"][\"trial_type\"] for i in range(len(p_res))])\n",
    "        try:\n",
    "            bonus_data[worker] = max(p_res_obj[\"questiondata\"][\"final_bonus\"], 0.5)\n",
    "        except:\n",
    "            bonus_data[worker] = 0.5\n",
    "            pass\n",
    "            #print(\"Uncompleted but usable trial for worker\", worker)\n",
    "\n",
    "print(\"Good responses\", good_responses)\n",
    "df = pd.DataFrame(df_data, columns=df_index)"
   ]
  },
  {
   "cell_type": "code",
   "execution_count": 6,
   "metadata": {},
   "outputs": [
    {
     "output_type": "stream",
     "name": "stdout",
     "text": [
      "unrecognized gender I'm a guy\nunrecognized gender non binary\nunrecognized gender agender (assigned female at birth)\nunrecognized gender non-binary \nNumber of female participants 101\nAverage age 34.07035175879397\n"
     ]
    }
   ],
   "source": [
    "# Study demographics\n",
    "\n",
    "num_female = 0\n",
    "age = 0\n",
    "age_counter = 0\n",
    "for x in demographics:\n",
    "    p = json.loads(x)\n",
    "    if p[\"Q2\"].lower().strip() in [\"female\", \"f\", \"woman\", \"cis female\", \"woman (she/her)\"]:\n",
    "        num_female += 1\n",
    "    elif p[\"Q2\"].lower().strip() == \"male\" or p[\"Q2\"].lower().strip() == \"m\":\n",
    "        pass\n",
    "    else: \n",
    "        print(\"unrecognized gender\", p[\"Q2\"])\n",
    "    if p[\"Q1\"].isdigit():\n",
    "        age += int(p[\"Q1\"])\n",
    "        age_counter += 1\n",
    "    elif p[\"Q1\"] == \"20`\":\n",
    "        age += 20\n",
    "        age_counter += 1\n",
    "    else:\n",
    "        print(\"Unrecognized age\", p[\"Q1\"])\n",
    "\n",
    "\n",
    "print(\"Number of female participants\", num_female)\n",
    "print(\"Average age\", age / age_counter)"
   ]
  },
  {
   "cell_type": "code",
   "execution_count": 42,
   "metadata": {},
   "outputs": [
    {
     "output_type": "stream",
     "name": "stdout",
     "text": [
      "Exlcuded participants [11, 27, 29, 35, 57, 67, 74, 80, 92, 101, 103, 105, 119, 120, 124, 130, 135, 150, 155, 157, 168, 170, 180, 203, 205, 242, 251, 255, 260, 275]\nTotal excluded 30\n"
     ]
    }
   ],
   "source": [
    "# Exclude participants with 0 clicks\n",
    "participants = pd.DataFrame(df[df[\"NumClicks\"] == 0].groupby(\"Participant\").count()[\"NumClicks\"])\n",
    "excluded = list(participants[participants[\"NumClicks\"]>2].index)\n",
    "print(\"Exlcuded participants\", excluded)\n",
    "print(\"Total excluded\", len(excluded))"
   ]
  },
  {
   "cell_type": "code",
   "execution_count": 43,
   "metadata": {},
   "outputs": [
    {
     "output_type": "execute_result",
     "data": {
      "text/plain": [
       "845"
      ]
     },
     "metadata": {},
     "execution_count": 43
    }
   ],
   "source": [
    "df_after_exclusion = df[~df[\"Participant\"].isin(excluded)]\n",
    "df_after_exclusion.to_csv(os.getcwd() + \"/pilot3-data/main_excluded.csv\")\n",
    "len(df_after_exclusion)"
   ]
  },
  {
   "cell_type": "code",
   "execution_count": 44,
   "metadata": {},
   "outputs": [
    {
     "output_type": "stream",
     "name": "stdout",
     "text": [
      "Total 169\n"
     ]
    },
    {
     "output_type": "execute_result",
     "data": {
      "text/plain": [
       "           Participant  TrialId\n",
       "Condition                      \n",
       "0                   42       42\n",
       "1                   45       45\n",
       "2                   39       39\n",
       "3                   43       43"
      ],
      "text/html": "<div>\n<style scoped>\n    .dataframe tbody tr th:only-of-type {\n        vertical-align: middle;\n    }\n\n    .dataframe tbody tr th {\n        vertical-align: top;\n    }\n\n    .dataframe thead th {\n        text-align: right;\n    }\n</style>\n<table border=\"1\" class=\"dataframe\">\n  <thead>\n    <tr style=\"text-align: right;\">\n      <th></th>\n      <th>Participant</th>\n      <th>TrialId</th>\n    </tr>\n    <tr>\n      <th>Condition</th>\n      <th></th>\n      <th></th>\n    </tr>\n  </thead>\n  <tbody>\n    <tr>\n      <th>0</th>\n      <td>42</td>\n      <td>42</td>\n    </tr>\n    <tr>\n      <th>1</th>\n      <td>45</td>\n      <td>45</td>\n    </tr>\n    <tr>\n      <th>2</th>\n      <td>39</td>\n      <td>39</td>\n    </tr>\n    <tr>\n      <th>3</th>\n      <td>43</td>\n      <td>43</td>\n    </tr>\n  </tbody>\n</table>\n</div>"
     },
     "metadata": {},
     "execution_count": 44
    }
   ],
   "source": [
    "print(\"Total\", len(df_after_exclusion[\"Participant\"].unique()))\n",
    "df_after_exclusion.groupby([\"Condition\", \"Participant\"]).count()[\"TrialId\"].reset_index().groupby(\"Condition\").count()"
   ]
  },
  {
   "cell_type": "code",
   "execution_count": 45,
   "metadata": {},
   "outputs": [
    {
     "output_type": "stream",
     "name": "stdout",
     "text": [
      "Average bonus: 0.56\nMinimum bonus: 0.5\nMaximum bonus: 1.0\nSummed bonues 123.83000000000001\n\n\n0, 0.5\n4, 0.5\n7, 0.5\n8, 0.5\n9, 0.5\n11, 0.5\n12, 0.5\n13, 0.5\n14, 0.5\n16, 0.5\n18, 0.6\n19, 0.5\n20, 0.5\n22, 0.5\n23, 0.5\n24, 0.5\n25, 0.98\n26, 0.5\n27, 0.5\n28, 0.5\n29, 0.67\n30, 0.5\n31, 0.67\n32, 0.5\n34, 0.5\n35, 0.5\n36, 0.5\n37, 0.5\n39, 0.69\n41, 1\n44, 0.5\n45, 0.5\n46, 0.5\n47, 0.5\n48, 0.5\n49, 1\n50, 0.5\n51, 0.84\n52, 0.5\n53, 0.5\n54, 0.5\n55, 0.5\n56, 0.5\n57, 0.5\n58, 0.5\n59, 0.5\n60, 0.5\n62, 0.5\n63, 0.5\n64, 0.5\n65, 0.5\n66, 1\n67, 1\n68, 1\n69, 0.5\n70, 0.5\n72, 0.5\n73, 0.5\n74, 0.64\n76, 0.84\n77, 0.5\n78, 0.5\n79, 0.5\n80, 0.5\n81, 0.5\n82, 0.5\n83, 0.5\n84, 0.5\n85, 0.5\n86, 0.56\n87, 0.5\n88, 0.5\n89, 0.5\n90, 0.5\n92, 0.5\n94, 0.64\n95, 0.5\n96, 0.5\n97, 0.5\n98, 0.5\n99, 0.5\n100, 0.5\n101, 0.5\n103, 0.5\n104, 0.5\n105, 0.5\n106, 0.5\n109, 0.5\n110, 0.5\n111, 0.5\n112, 1\n113, 0.71\n115, 0.5\n116, 0.5\n117, 0.87\n119, 0.5\n120, 0.5\n121, 0.5\n122, 0.5\n123, 0.5\n124, 1\n125, 0.6\n126, 1\n127, 0.5\n128, 0.5\n129, 0.5\n130, 0.5\n131, 0.5\n132, 0.5\n133, 0.5\n134, 0.5\n135, 0.5\n136, 0.89\n139, 0.5\n141, 0.5\n142, 0.5\n143, 1\n145, 0.71\n147, 1\n148, 0.5\n149, 0.5\n150, 0.78\n151, 0.5\n152, 0.5\n153, 0.5\n155, 1\n157, 0.5\n158, 0.5\n159, 0.5\n160, 0.5\n161, 0.69\n162, 0.5\n163, 0.56\n164, 0.5\n166, 0.5\n168, 0.5\n169, 0.5\n170, 1\n171, 0.5\n172, 0.5\n173, 0.5\n174, 0.5\n177, 0.5\n178, 0.5\n179, 0.5\n180, 0.5\n181, 0.5\n182, 0.5\n183, 0.5\n185, 0.5\n186, 0.5\n189, 0.5\n190, 0.5\n192, 0.5\n193, 0.5\n194, 0.5\n195, 0.8\n196, 0.5\n197, 0.5\n198, 0.5\n199, 0.5\n200, 0.5\n201, 0.64\n203, 0.71\n204, 0.5\n205, 0.5\n206, 0.5\n207, 0.5\n208, 0.82\n210, 0.5\n211, 0.5\n212, 0.5\n213, 0.5\n215, 0.5\n216, 0.5\n217, 0.5\n218, 0.5\n220, 0.84\n221, 0.5\n222, 0.5\n223, 0.5\n224, 0.5\n225, 0.5\n227, 0.5\n228, 0.5\n229, 0.5\n230, 0.5\n231, 0.5\n232, 0.5\n233, 0.5\n234, 0.96\n236, 0.5\n237, 0.5\n241, 0.5\n242, 0.5\n243, 0.5\n246, 0.5\n247, 0.5\n249, 0.5\n251, 0.5\n252, 1\n253, 0.5\n254, 0.5\n255, 0.5\n256, 0.5\n257, 0.5\n258, 0.5\n260, 1\n261, 0.5\n262, 0.5\n263, 0.5\n264, 0.5\n265, 0.62\n268, 0.5\n271, 0.5\n272, 0.5\n273, 0.5\n274, 0.5\n275, 0.5\n276, 0.5\n280, 0.5\n282, 0.5\n"
     ]
    }
   ],
   "source": [
    "print(\"Average bonus:\", np.round(np.mean(list(bonus_data.values())),2))\n",
    "print(\"Minimum bonus:\", np.round(np.min(list(bonus_data.values())),2))\n",
    "print(\"Maximum bonus:\", np.round(np.max(list(bonus_data.values())),2))\n",
    "print(\"Summed bonues\", np.sum(list(bonus_data.values())))\n",
    "print(\"\\n\")\n",
    "for participant, bonus in bonus_data.items():\n",
    "    if bonus > 0:\n",
    "        print(f\"{participant}, {bonus}\")"
   ]
  },
  {
   "source": [
    "### Basic statistics of the data (rest in R)"
   ],
   "cell_type": "markdown",
   "metadata": {}
  },
  {
   "cell_type": "code",
   "execution_count": 17,
   "metadata": {},
   "outputs": [
    {
     "output_type": "stream",
     "name": "stdout",
     "text": [
      "Hierarchical normal distribution test ShapiroResult(statistic=0.873130202293396, pvalue=9.96081515880487e-12)\nMeta normal distribution test ShapiroResult(statistic=0.5462836623191833, pvalue=8.143525509427762e-24)\nNo demo normal distribution test ShapiroResult(statistic=0.46644318103790283, pvalue=1.057500781176333e-24)\nFeedback normal distribution test ShapiroResult(statistic=0.5685107707977295, pvalue=8.120946259281983e-23)\nD Meta-Hier 0.7247798859738476\nD Meta-no_demo 0.511738649325326\nD Meta-feedback 0.5339199874518473\nD hier-feedback 0.10673038681288825\nD hier-no_demo 0.06960997352431827\nD no_demo-feedback 0.02937662739650694\n"
     ]
    }
   ],
   "source": [
    "# Cohen D\n",
    "def cohend(l1, l2):\n",
    "    pooled_std = np.sqrt(((np.std(l1)**2) + np.std(l2)**2)/2)\n",
    "    return (np.mean(l1) - np.mean(l2))/pooled_std\n",
    "\n",
    "no_demo = df_after_exclusion[df_after_exclusion[\"Condition\"]==0][[\"ExpectedScore\"]].to_numpy().flatten()\n",
    "meta = df_after_exclusion[df_after_exclusion[\"Condition\"]==1][[\"ExpectedScore\"]].to_numpy().flatten()\n",
    "hierarchical = df_after_exclusion[df_after_exclusion[\"Condition\"]==2][[\"ExpectedScore\"]].to_numpy().flatten()\n",
    "feedback = df_after_exclusion[df_after_exclusion[\"Condition\"]==3][[\"ExpectedScore\"]].to_numpy().flatten()\n",
    "\n",
    "print(\"Hierarchical normal distribution test\", stats.shapiro(hierarchical))\n",
    "print(\"Meta normal distribution test\", stats.shapiro(meta))\n",
    "print(\"No demo normal distribution test\", stats.shapiro(no_demo))\n",
    "print(\"Feedback normal distribution test\", stats.shapiro(feedback))\n",
    "\n",
    "print(\"D Meta-Hier\", cohend(meta, hierarchical))\n",
    "print(\"D Meta-no_demo\", cohend(meta, no_demo))\n",
    "print(\"D Meta-feedback\", cohend(meta, feedback))\n",
    "\n",
    "print(\"D hier-feedback\", cohend(hierarchical, feedback))\n",
    "print(\"D hier-no_demo\", cohend(hierarchical, no_demo))\n",
    "print(\"D no_demo-feedback\", cohend(no_demo, feedback))"
   ]
  },
  {
   "cell_type": "code",
   "execution_count": 38,
   "metadata": {},
   "outputs": [
    {
     "output_type": "execute_result",
     "data": {
      "text/plain": [
       "<matplotlib.legend.Legend at 0x1b3762cc310>"
      ]
     },
     "metadata": {},
     "execution_count": 38
    },
    {
     "output_type": "display_data",
     "data": {
      "text/plain": "<Figure size 432x288 with 1 Axes>",
      "image/svg+xml": "<?xml version=\"1.0\" encoding=\"utf-8\" standalone=\"no\"?>\r\n<!DOCTYPE svg PUBLIC \"-//W3C//DTD SVG 1.1//EN\"\r\n  \"http://www.w3.org/Graphics/SVG/1.1/DTD/svg11.dtd\">\r\n<!-- Created with matplotlib (https://matplotlib.org/) -->\r\n<svg height=\"262.19625pt\" version=\"1.1\" viewBox=\"0 0 397.345312 262.19625\" width=\"397.345312pt\" xmlns=\"http://www.w3.org/2000/svg\" xmlns:xlink=\"http://www.w3.org/1999/xlink\">\r\n <metadata>\r\n  <rdf:RDF xmlns:cc=\"http://creativecommons.org/ns#\" xmlns:dc=\"http://purl.org/dc/elements/1.1/\" xmlns:rdf=\"http://www.w3.org/1999/02/22-rdf-syntax-ns#\">\r\n   <cc:Work>\r\n    <dc:type rdf:resource=\"http://purl.org/dc/dcmitype/StillImage\"/>\r\n    <dc:date>2021-01-30T12:44:57.583512</dc:date>\r\n    <dc:format>image/svg+xml</dc:format>\r\n    <dc:creator>\r\n     <cc:Agent>\r\n      <dc:title>Matplotlib v3.3.1, https://matplotlib.org/</dc:title>\r\n     </cc:Agent>\r\n    </dc:creator>\r\n   </cc:Work>\r\n  </rdf:RDF>\r\n </metadata>\r\n <defs>\r\n  <style type=\"text/css\">*{stroke-linecap:butt;stroke-linejoin:round;}</style>\r\n </defs>\r\n <g id=\"figure_1\">\r\n  <g id=\"patch_1\">\r\n   <path d=\"M 0 262.19625 \r\nL 397.345312 262.19625 \r\nL 397.345312 0 \r\nL 0 0 \r\nz\r\n\" style=\"fill:none;\"/>\r\n  </g>\r\n  <g id=\"axes_1\">\r\n   <g id=\"patch_2\">\r\n    <path d=\"M 55.345313 224.64 \r\nL 390.145312 224.64 \r\nL 390.145312 7.2 \r\nL 55.345313 7.2 \r\nz\r\n\" style=\"fill:#ffffff;\"/>\r\n   </g>\r\n   <g id=\"matplotlib.axis_1\">\r\n    <g id=\"xtick_1\">\r\n     <g id=\"line2d_1\">\r\n      <defs>\r\n       <path d=\"M 0 0 \r\nL 0 3.5 \r\n\" id=\"m9fc8264e93\" style=\"stroke:#000000;stroke-width:0.8;\"/>\r\n      </defs>\r\n      <g>\r\n       <use style=\"stroke:#000000;stroke-width:0.8;\" x=\"70.563494\" xlink:href=\"#m9fc8264e93\" y=\"224.64\"/>\r\n      </g>\r\n     </g>\r\n     <g id=\"text_1\">\r\n      <!-- 1.0 -->\r\n      <g transform=\"translate(62.611932 239.238437)scale(0.1 -0.1)\">\r\n       <defs>\r\n        <path d=\"M 12.40625 8.296875 \r\nL 28.515625 8.296875 \r\nL 28.515625 63.921875 \r\nL 10.984375 60.40625 \r\nL 10.984375 69.390625 \r\nL 28.421875 72.90625 \r\nL 38.28125 72.90625 \r\nL 38.28125 8.296875 \r\nL 54.390625 8.296875 \r\nL 54.390625 0 \r\nL 12.40625 0 \r\nz\r\n\" id=\"DejaVuSans-49\"/>\r\n        <path d=\"M 10.6875 12.40625 \r\nL 21 12.40625 \r\nL 21 0 \r\nL 10.6875 0 \r\nz\r\n\" id=\"DejaVuSans-46\"/>\r\n        <path d=\"M 31.78125 66.40625 \r\nQ 24.171875 66.40625 20.328125 58.90625 \r\nQ 16.5 51.421875 16.5 36.375 \r\nQ 16.5 21.390625 20.328125 13.890625 \r\nQ 24.171875 6.390625 31.78125 6.390625 \r\nQ 39.453125 6.390625 43.28125 13.890625 \r\nQ 47.125 21.390625 47.125 36.375 \r\nQ 47.125 51.421875 43.28125 58.90625 \r\nQ 39.453125 66.40625 31.78125 66.40625 \r\nz\r\nM 31.78125 74.21875 \r\nQ 44.046875 74.21875 50.515625 64.515625 \r\nQ 56.984375 54.828125 56.984375 36.375 \r\nQ 56.984375 17.96875 50.515625 8.265625 \r\nQ 44.046875 -1.421875 31.78125 -1.421875 \r\nQ 19.53125 -1.421875 13.0625 8.265625 \r\nQ 6.59375 17.96875 6.59375 36.375 \r\nQ 6.59375 54.828125 13.0625 64.515625 \r\nQ 19.53125 74.21875 31.78125 74.21875 \r\nz\r\n\" id=\"DejaVuSans-48\"/>\r\n       </defs>\r\n       <use xlink:href=\"#DejaVuSans-49\"/>\r\n       <use x=\"63.623047\" xlink:href=\"#DejaVuSans-46\"/>\r\n       <use x=\"95.410156\" xlink:href=\"#DejaVuSans-48\"/>\r\n      </g>\r\n     </g>\r\n    </g>\r\n    <g id=\"xtick_2\">\r\n     <g id=\"line2d_2\">\r\n      <g>\r\n       <use style=\"stroke:#000000;stroke-width:0.8;\" x=\"108.608949\" xlink:href=\"#m9fc8264e93\" y=\"224.64\"/>\r\n      </g>\r\n     </g>\r\n     <g id=\"text_2\">\r\n      <!-- 1.5 -->\r\n      <g transform=\"translate(100.657386 239.238437)scale(0.1 -0.1)\">\r\n       <defs>\r\n        <path d=\"M 10.796875 72.90625 \r\nL 49.515625 72.90625 \r\nL 49.515625 64.59375 \r\nL 19.828125 64.59375 \r\nL 19.828125 46.734375 \r\nQ 21.96875 47.46875 24.109375 47.828125 \r\nQ 26.265625 48.1875 28.421875 48.1875 \r\nQ 40.625 48.1875 47.75 41.5 \r\nQ 54.890625 34.8125 54.890625 23.390625 \r\nQ 54.890625 11.625 47.5625 5.09375 \r\nQ 40.234375 -1.421875 26.90625 -1.421875 \r\nQ 22.3125 -1.421875 17.546875 -0.640625 \r\nQ 12.796875 0.140625 7.71875 1.703125 \r\nL 7.71875 11.625 \r\nQ 12.109375 9.234375 16.796875 8.0625 \r\nQ 21.484375 6.890625 26.703125 6.890625 \r\nQ 35.15625 6.890625 40.078125 11.328125 \r\nQ 45.015625 15.765625 45.015625 23.390625 \r\nQ 45.015625 31 40.078125 35.4375 \r\nQ 35.15625 39.890625 26.703125 39.890625 \r\nQ 22.75 39.890625 18.8125 39.015625 \r\nQ 14.890625 38.140625 10.796875 36.28125 \r\nz\r\n\" id=\"DejaVuSans-53\"/>\r\n       </defs>\r\n       <use xlink:href=\"#DejaVuSans-49\"/>\r\n       <use x=\"63.623047\" xlink:href=\"#DejaVuSans-46\"/>\r\n       <use x=\"95.410156\" xlink:href=\"#DejaVuSans-53\"/>\r\n      </g>\r\n     </g>\r\n    </g>\r\n    <g id=\"xtick_3\">\r\n     <g id=\"line2d_3\">\r\n      <g>\r\n       <use style=\"stroke:#000000;stroke-width:0.8;\" x=\"146.654403\" xlink:href=\"#m9fc8264e93\" y=\"224.64\"/>\r\n      </g>\r\n     </g>\r\n     <g id=\"text_3\">\r\n      <!-- 2.0 -->\r\n      <g transform=\"translate(138.702841 239.238437)scale(0.1 -0.1)\">\r\n       <defs>\r\n        <path d=\"M 19.1875 8.296875 \r\nL 53.609375 8.296875 \r\nL 53.609375 0 \r\nL 7.328125 0 \r\nL 7.328125 8.296875 \r\nQ 12.9375 14.109375 22.625 23.890625 \r\nQ 32.328125 33.6875 34.8125 36.53125 \r\nQ 39.546875 41.84375 41.421875 45.53125 \r\nQ 43.3125 49.21875 43.3125 52.78125 \r\nQ 43.3125 58.59375 39.234375 62.25 \r\nQ 35.15625 65.921875 28.609375 65.921875 \r\nQ 23.96875 65.921875 18.8125 64.3125 \r\nQ 13.671875 62.703125 7.8125 59.421875 \r\nL 7.8125 69.390625 \r\nQ 13.765625 71.78125 18.9375 73 \r\nQ 24.125 74.21875 28.421875 74.21875 \r\nQ 39.75 74.21875 46.484375 68.546875 \r\nQ 53.21875 62.890625 53.21875 53.421875 \r\nQ 53.21875 48.921875 51.53125 44.890625 \r\nQ 49.859375 40.875 45.40625 35.40625 \r\nQ 44.1875 33.984375 37.640625 27.21875 \r\nQ 31.109375 20.453125 19.1875 8.296875 \r\nz\r\n\" id=\"DejaVuSans-50\"/>\r\n       </defs>\r\n       <use xlink:href=\"#DejaVuSans-50\"/>\r\n       <use x=\"63.623047\" xlink:href=\"#DejaVuSans-46\"/>\r\n       <use x=\"95.410156\" xlink:href=\"#DejaVuSans-48\"/>\r\n      </g>\r\n     </g>\r\n    </g>\r\n    <g id=\"xtick_4\">\r\n     <g id=\"line2d_4\">\r\n      <g>\r\n       <use style=\"stroke:#000000;stroke-width:0.8;\" x=\"184.699858\" xlink:href=\"#m9fc8264e93\" y=\"224.64\"/>\r\n      </g>\r\n     </g>\r\n     <g id=\"text_4\">\r\n      <!-- 2.5 -->\r\n      <g transform=\"translate(176.748295 239.238437)scale(0.1 -0.1)\">\r\n       <use xlink:href=\"#DejaVuSans-50\"/>\r\n       <use x=\"63.623047\" xlink:href=\"#DejaVuSans-46\"/>\r\n       <use x=\"95.410156\" xlink:href=\"#DejaVuSans-53\"/>\r\n      </g>\r\n     </g>\r\n    </g>\r\n    <g id=\"xtick_5\">\r\n     <g id=\"line2d_5\">\r\n      <g>\r\n       <use style=\"stroke:#000000;stroke-width:0.8;\" x=\"222.745312\" xlink:href=\"#m9fc8264e93\" y=\"224.64\"/>\r\n      </g>\r\n     </g>\r\n     <g id=\"text_5\">\r\n      <!-- 3.0 -->\r\n      <g transform=\"translate(214.79375 239.238437)scale(0.1 -0.1)\">\r\n       <defs>\r\n        <path d=\"M 40.578125 39.3125 \r\nQ 47.65625 37.796875 51.625 33 \r\nQ 55.609375 28.21875 55.609375 21.1875 \r\nQ 55.609375 10.40625 48.1875 4.484375 \r\nQ 40.765625 -1.421875 27.09375 -1.421875 \r\nQ 22.515625 -1.421875 17.65625 -0.515625 \r\nQ 12.796875 0.390625 7.625 2.203125 \r\nL 7.625 11.71875 \r\nQ 11.71875 9.328125 16.59375 8.109375 \r\nQ 21.484375 6.890625 26.8125 6.890625 \r\nQ 36.078125 6.890625 40.9375 10.546875 \r\nQ 45.796875 14.203125 45.796875 21.1875 \r\nQ 45.796875 27.640625 41.28125 31.265625 \r\nQ 36.765625 34.90625 28.71875 34.90625 \r\nL 20.21875 34.90625 \r\nL 20.21875 43.015625 \r\nL 29.109375 43.015625 \r\nQ 36.375 43.015625 40.234375 45.921875 \r\nQ 44.09375 48.828125 44.09375 54.296875 \r\nQ 44.09375 59.90625 40.109375 62.90625 \r\nQ 36.140625 65.921875 28.71875 65.921875 \r\nQ 24.65625 65.921875 20.015625 65.03125 \r\nQ 15.375 64.15625 9.8125 62.3125 \r\nL 9.8125 71.09375 \r\nQ 15.4375 72.65625 20.34375 73.4375 \r\nQ 25.25 74.21875 29.59375 74.21875 \r\nQ 40.828125 74.21875 47.359375 69.109375 \r\nQ 53.90625 64.015625 53.90625 55.328125 \r\nQ 53.90625 49.265625 50.4375 45.09375 \r\nQ 46.96875 40.921875 40.578125 39.3125 \r\nz\r\n\" id=\"DejaVuSans-51\"/>\r\n       </defs>\r\n       <use xlink:href=\"#DejaVuSans-51\"/>\r\n       <use x=\"63.623047\" xlink:href=\"#DejaVuSans-46\"/>\r\n       <use x=\"95.410156\" xlink:href=\"#DejaVuSans-48\"/>\r\n      </g>\r\n     </g>\r\n    </g>\r\n    <g id=\"xtick_6\">\r\n     <g id=\"line2d_6\">\r\n      <g>\r\n       <use style=\"stroke:#000000;stroke-width:0.8;\" x=\"260.790767\" xlink:href=\"#m9fc8264e93\" y=\"224.64\"/>\r\n      </g>\r\n     </g>\r\n     <g id=\"text_6\">\r\n      <!-- 3.5 -->\r\n      <g transform=\"translate(252.839205 239.238437)scale(0.1 -0.1)\">\r\n       <use xlink:href=\"#DejaVuSans-51\"/>\r\n       <use x=\"63.623047\" xlink:href=\"#DejaVuSans-46\"/>\r\n       <use x=\"95.410156\" xlink:href=\"#DejaVuSans-53\"/>\r\n      </g>\r\n     </g>\r\n    </g>\r\n    <g id=\"xtick_7\">\r\n     <g id=\"line2d_7\">\r\n      <g>\r\n       <use style=\"stroke:#000000;stroke-width:0.8;\" x=\"298.836222\" xlink:href=\"#m9fc8264e93\" y=\"224.64\"/>\r\n      </g>\r\n     </g>\r\n     <g id=\"text_7\">\r\n      <!-- 4.0 -->\r\n      <g transform=\"translate(290.884659 239.238437)scale(0.1 -0.1)\">\r\n       <defs>\r\n        <path d=\"M 37.796875 64.3125 \r\nL 12.890625 25.390625 \r\nL 37.796875 25.390625 \r\nz\r\nM 35.203125 72.90625 \r\nL 47.609375 72.90625 \r\nL 47.609375 25.390625 \r\nL 58.015625 25.390625 \r\nL 58.015625 17.1875 \r\nL 47.609375 17.1875 \r\nL 47.609375 0 \r\nL 37.796875 0 \r\nL 37.796875 17.1875 \r\nL 4.890625 17.1875 \r\nL 4.890625 26.703125 \r\nz\r\n\" id=\"DejaVuSans-52\"/>\r\n       </defs>\r\n       <use xlink:href=\"#DejaVuSans-52\"/>\r\n       <use x=\"63.623047\" xlink:href=\"#DejaVuSans-46\"/>\r\n       <use x=\"95.410156\" xlink:href=\"#DejaVuSans-48\"/>\r\n      </g>\r\n     </g>\r\n    </g>\r\n    <g id=\"xtick_8\">\r\n     <g id=\"line2d_8\">\r\n      <g>\r\n       <use style=\"stroke:#000000;stroke-width:0.8;\" x=\"336.881676\" xlink:href=\"#m9fc8264e93\" y=\"224.64\"/>\r\n      </g>\r\n     </g>\r\n     <g id=\"text_8\">\r\n      <!-- 4.5 -->\r\n      <g transform=\"translate(328.930114 239.238437)scale(0.1 -0.1)\">\r\n       <use xlink:href=\"#DejaVuSans-52\"/>\r\n       <use x=\"63.623047\" xlink:href=\"#DejaVuSans-46\"/>\r\n       <use x=\"95.410156\" xlink:href=\"#DejaVuSans-53\"/>\r\n      </g>\r\n     </g>\r\n    </g>\r\n    <g id=\"xtick_9\">\r\n     <g id=\"line2d_9\">\r\n      <g>\r\n       <use style=\"stroke:#000000;stroke-width:0.8;\" x=\"374.927131\" xlink:href=\"#m9fc8264e93\" y=\"224.64\"/>\r\n      </g>\r\n     </g>\r\n     <g id=\"text_9\">\r\n      <!-- 5.0 -->\r\n      <g transform=\"translate(366.975568 239.238437)scale(0.1 -0.1)\">\r\n       <use xlink:href=\"#DejaVuSans-53\"/>\r\n       <use x=\"63.623047\" xlink:href=\"#DejaVuSans-46\"/>\r\n       <use x=\"95.410156\" xlink:href=\"#DejaVuSans-48\"/>\r\n      </g>\r\n     </g>\r\n    </g>\r\n    <g id=\"text_10\">\r\n     <!-- Trial ID -->\r\n     <g transform=\"translate(205.617187 252.916562)scale(0.1 -0.1)\">\r\n      <defs>\r\n       <path d=\"M -0.296875 72.90625 \r\nL 61.375 72.90625 \r\nL 61.375 64.59375 \r\nL 35.5 64.59375 \r\nL 35.5 0 \r\nL 25.59375 0 \r\nL 25.59375 64.59375 \r\nL -0.296875 64.59375 \r\nz\r\n\" id=\"DejaVuSans-84\"/>\r\n       <path d=\"M 41.109375 46.296875 \r\nQ 39.59375 47.171875 37.8125 47.578125 \r\nQ 36.03125 48 33.890625 48 \r\nQ 26.265625 48 22.1875 43.046875 \r\nQ 18.109375 38.09375 18.109375 28.8125 \r\nL 18.109375 0 \r\nL 9.078125 0 \r\nL 9.078125 54.6875 \r\nL 18.109375 54.6875 \r\nL 18.109375 46.1875 \r\nQ 20.953125 51.171875 25.484375 53.578125 \r\nQ 30.03125 56 36.53125 56 \r\nQ 37.453125 56 38.578125 55.875 \r\nQ 39.703125 55.765625 41.0625 55.515625 \r\nz\r\n\" id=\"DejaVuSans-114\"/>\r\n       <path d=\"M 9.421875 54.6875 \r\nL 18.40625 54.6875 \r\nL 18.40625 0 \r\nL 9.421875 0 \r\nz\r\nM 9.421875 75.984375 \r\nL 18.40625 75.984375 \r\nL 18.40625 64.59375 \r\nL 9.421875 64.59375 \r\nz\r\n\" id=\"DejaVuSans-105\"/>\r\n       <path d=\"M 34.28125 27.484375 \r\nQ 23.390625 27.484375 19.1875 25 \r\nQ 14.984375 22.515625 14.984375 16.5 \r\nQ 14.984375 11.71875 18.140625 8.90625 \r\nQ 21.296875 6.109375 26.703125 6.109375 \r\nQ 34.1875 6.109375 38.703125 11.40625 \r\nQ 43.21875 16.703125 43.21875 25.484375 \r\nL 43.21875 27.484375 \r\nz\r\nM 52.203125 31.203125 \r\nL 52.203125 0 \r\nL 43.21875 0 \r\nL 43.21875 8.296875 \r\nQ 40.140625 3.328125 35.546875 0.953125 \r\nQ 30.953125 -1.421875 24.3125 -1.421875 \r\nQ 15.921875 -1.421875 10.953125 3.296875 \r\nQ 6 8.015625 6 15.921875 \r\nQ 6 25.140625 12.171875 29.828125 \r\nQ 18.359375 34.515625 30.609375 34.515625 \r\nL 43.21875 34.515625 \r\nL 43.21875 35.40625 \r\nQ 43.21875 41.609375 39.140625 45 \r\nQ 35.0625 48.390625 27.6875 48.390625 \r\nQ 23 48.390625 18.546875 47.265625 \r\nQ 14.109375 46.140625 10.015625 43.890625 \r\nL 10.015625 52.203125 \r\nQ 14.9375 54.109375 19.578125 55.046875 \r\nQ 24.21875 56 28.609375 56 \r\nQ 40.484375 56 46.34375 49.84375 \r\nQ 52.203125 43.703125 52.203125 31.203125 \r\nz\r\n\" id=\"DejaVuSans-97\"/>\r\n       <path d=\"M 9.421875 75.984375 \r\nL 18.40625 75.984375 \r\nL 18.40625 0 \r\nL 9.421875 0 \r\nz\r\n\" id=\"DejaVuSans-108\"/>\r\n       <path id=\"DejaVuSans-32\"/>\r\n       <path d=\"M 9.8125 72.90625 \r\nL 19.671875 72.90625 \r\nL 19.671875 0 \r\nL 9.8125 0 \r\nz\r\n\" id=\"DejaVuSans-73\"/>\r\n       <path d=\"M 19.671875 64.796875 \r\nL 19.671875 8.109375 \r\nL 31.59375 8.109375 \r\nQ 46.6875 8.109375 53.6875 14.9375 \r\nQ 60.6875 21.78125 60.6875 36.53125 \r\nQ 60.6875 51.171875 53.6875 57.984375 \r\nQ 46.6875 64.796875 31.59375 64.796875 \r\nz\r\nM 9.8125 72.90625 \r\nL 30.078125 72.90625 \r\nQ 51.265625 72.90625 61.171875 64.09375 \r\nQ 71.09375 55.28125 71.09375 36.53125 \r\nQ 71.09375 17.671875 61.125 8.828125 \r\nQ 51.171875 0 30.078125 0 \r\nL 9.8125 0 \r\nz\r\n\" id=\"DejaVuSans-68\"/>\r\n      </defs>\r\n      <use xlink:href=\"#DejaVuSans-84\"/>\r\n      <use x=\"46.333984\" xlink:href=\"#DejaVuSans-114\"/>\r\n      <use x=\"87.447266\" xlink:href=\"#DejaVuSans-105\"/>\r\n      <use x=\"115.230469\" xlink:href=\"#DejaVuSans-97\"/>\r\n      <use x=\"176.509766\" xlink:href=\"#DejaVuSans-108\"/>\r\n      <use x=\"204.292969\" xlink:href=\"#DejaVuSans-32\"/>\r\n      <use x=\"236.080078\" xlink:href=\"#DejaVuSans-73\"/>\r\n      <use x=\"265.572266\" xlink:href=\"#DejaVuSans-68\"/>\r\n     </g>\r\n    </g>\r\n   </g>\r\n   <g id=\"matplotlib.axis_2\">\r\n    <g id=\"ytick_1\">\r\n     <g id=\"line2d_10\">\r\n      <defs>\r\n       <path d=\"M 0 0 \r\nL -3.5 0 \r\n\" id=\"m0a8b13d1c6\" style=\"stroke:#000000;stroke-width:0.8;\"/>\r\n      </defs>\r\n      <g>\r\n       <use style=\"stroke:#000000;stroke-width:0.8;\" x=\"55.345313\" xlink:href=\"#m0a8b13d1c6\" y=\"219.561672\"/>\r\n      </g>\r\n     </g>\r\n     <g id=\"text_11\">\r\n      <!-- −250 -->\r\n      <g transform=\"translate(20.878125 223.360891)scale(0.1 -0.1)\">\r\n       <defs>\r\n        <path d=\"M 10.59375 35.5 \r\nL 73.1875 35.5 \r\nL 73.1875 27.203125 \r\nL 10.59375 27.203125 \r\nz\r\n\" id=\"DejaVuSans-8722\"/>\r\n       </defs>\r\n       <use xlink:href=\"#DejaVuSans-8722\"/>\r\n       <use x=\"83.789062\" xlink:href=\"#DejaVuSans-50\"/>\r\n       <use x=\"147.412109\" xlink:href=\"#DejaVuSans-53\"/>\r\n       <use x=\"211.035156\" xlink:href=\"#DejaVuSans-48\"/>\r\n      </g>\r\n     </g>\r\n    </g>\r\n    <g id=\"ytick_2\">\r\n     <g id=\"line2d_11\">\r\n      <g>\r\n       <use style=\"stroke:#000000;stroke-width:0.8;\" x=\"55.345313\" xlink:href=\"#m0a8b13d1c6\" y=\"179.825468\"/>\r\n      </g>\r\n     </g>\r\n     <g id=\"text_12\">\r\n      <!-- −200 -->\r\n      <g transform=\"translate(20.878125 183.624687)scale(0.1 -0.1)\">\r\n       <use xlink:href=\"#DejaVuSans-8722\"/>\r\n       <use x=\"83.789062\" xlink:href=\"#DejaVuSans-50\"/>\r\n       <use x=\"147.412109\" xlink:href=\"#DejaVuSans-48\"/>\r\n       <use x=\"211.035156\" xlink:href=\"#DejaVuSans-48\"/>\r\n      </g>\r\n     </g>\r\n    </g>\r\n    <g id=\"ytick_3\">\r\n     <g id=\"line2d_12\">\r\n      <g>\r\n       <use style=\"stroke:#000000;stroke-width:0.8;\" x=\"55.345313\" xlink:href=\"#m0a8b13d1c6\" y=\"140.089264\"/>\r\n      </g>\r\n     </g>\r\n     <g id=\"text_13\">\r\n      <!-- −150 -->\r\n      <g transform=\"translate(20.878125 143.888483)scale(0.1 -0.1)\">\r\n       <use xlink:href=\"#DejaVuSans-8722\"/>\r\n       <use x=\"83.789062\" xlink:href=\"#DejaVuSans-49\"/>\r\n       <use x=\"147.412109\" xlink:href=\"#DejaVuSans-53\"/>\r\n       <use x=\"211.035156\" xlink:href=\"#DejaVuSans-48\"/>\r\n      </g>\r\n     </g>\r\n    </g>\r\n    <g id=\"ytick_4\">\r\n     <g id=\"line2d_13\">\r\n      <g>\r\n       <use style=\"stroke:#000000;stroke-width:0.8;\" x=\"55.345313\" xlink:href=\"#m0a8b13d1c6\" y=\"100.35306\"/>\r\n      </g>\r\n     </g>\r\n     <g id=\"text_14\">\r\n      <!-- −100 -->\r\n      <g transform=\"translate(20.878125 104.152278)scale(0.1 -0.1)\">\r\n       <use xlink:href=\"#DejaVuSans-8722\"/>\r\n       <use x=\"83.789062\" xlink:href=\"#DejaVuSans-49\"/>\r\n       <use x=\"147.412109\" xlink:href=\"#DejaVuSans-48\"/>\r\n       <use x=\"211.035156\" xlink:href=\"#DejaVuSans-48\"/>\r\n      </g>\r\n     </g>\r\n    </g>\r\n    <g id=\"ytick_5\">\r\n     <g id=\"line2d_14\">\r\n      <g>\r\n       <use style=\"stroke:#000000;stroke-width:0.8;\" x=\"55.345313\" xlink:href=\"#m0a8b13d1c6\" y=\"60.616856\"/>\r\n      </g>\r\n     </g>\r\n     <g id=\"text_15\">\r\n      <!-- −50 -->\r\n      <g transform=\"translate(27.240625 64.416074)scale(0.1 -0.1)\">\r\n       <use xlink:href=\"#DejaVuSans-8722\"/>\r\n       <use x=\"83.789062\" xlink:href=\"#DejaVuSans-53\"/>\r\n       <use x=\"147.412109\" xlink:href=\"#DejaVuSans-48\"/>\r\n      </g>\r\n     </g>\r\n    </g>\r\n    <g id=\"ytick_6\">\r\n     <g id=\"line2d_15\">\r\n      <g>\r\n       <use style=\"stroke:#000000;stroke-width:0.8;\" x=\"55.345313\" xlink:href=\"#m0a8b13d1c6\" y=\"20.880651\"/>\r\n      </g>\r\n     </g>\r\n     <g id=\"text_16\">\r\n      <!-- 0 -->\r\n      <g transform=\"translate(41.982813 24.67987)scale(0.1 -0.1)\">\r\n       <use xlink:href=\"#DejaVuSans-48\"/>\r\n      </g>\r\n     </g>\r\n    </g>\r\n    <g id=\"text_17\">\r\n     <!-- Expected Score -->\r\n     <g transform=\"translate(14.798438 154.841094)rotate(-90)scale(0.1 -0.1)\">\r\n      <defs>\r\n       <path d=\"M 9.8125 72.90625 \r\nL 55.90625 72.90625 \r\nL 55.90625 64.59375 \r\nL 19.671875 64.59375 \r\nL 19.671875 43.015625 \r\nL 54.390625 43.015625 \r\nL 54.390625 34.71875 \r\nL 19.671875 34.71875 \r\nL 19.671875 8.296875 \r\nL 56.78125 8.296875 \r\nL 56.78125 0 \r\nL 9.8125 0 \r\nz\r\n\" id=\"DejaVuSans-69\"/>\r\n       <path d=\"M 54.890625 54.6875 \r\nL 35.109375 28.078125 \r\nL 55.90625 0 \r\nL 45.3125 0 \r\nL 29.390625 21.484375 \r\nL 13.484375 0 \r\nL 2.875 0 \r\nL 24.125 28.609375 \r\nL 4.6875 54.6875 \r\nL 15.28125 54.6875 \r\nL 29.78125 35.203125 \r\nL 44.28125 54.6875 \r\nz\r\n\" id=\"DejaVuSans-120\"/>\r\n       <path d=\"M 18.109375 8.203125 \r\nL 18.109375 -20.796875 \r\nL 9.078125 -20.796875 \r\nL 9.078125 54.6875 \r\nL 18.109375 54.6875 \r\nL 18.109375 46.390625 \r\nQ 20.953125 51.265625 25.265625 53.625 \r\nQ 29.59375 56 35.59375 56 \r\nQ 45.5625 56 51.78125 48.09375 \r\nQ 58.015625 40.1875 58.015625 27.296875 \r\nQ 58.015625 14.40625 51.78125 6.484375 \r\nQ 45.5625 -1.421875 35.59375 -1.421875 \r\nQ 29.59375 -1.421875 25.265625 0.953125 \r\nQ 20.953125 3.328125 18.109375 8.203125 \r\nz\r\nM 48.6875 27.296875 \r\nQ 48.6875 37.203125 44.609375 42.84375 \r\nQ 40.53125 48.484375 33.40625 48.484375 \r\nQ 26.265625 48.484375 22.1875 42.84375 \r\nQ 18.109375 37.203125 18.109375 27.296875 \r\nQ 18.109375 17.390625 22.1875 11.75 \r\nQ 26.265625 6.109375 33.40625 6.109375 \r\nQ 40.53125 6.109375 44.609375 11.75 \r\nQ 48.6875 17.390625 48.6875 27.296875 \r\nz\r\n\" id=\"DejaVuSans-112\"/>\r\n       <path d=\"M 56.203125 29.59375 \r\nL 56.203125 25.203125 \r\nL 14.890625 25.203125 \r\nQ 15.484375 15.921875 20.484375 11.0625 \r\nQ 25.484375 6.203125 34.421875 6.203125 \r\nQ 39.59375 6.203125 44.453125 7.46875 \r\nQ 49.3125 8.734375 54.109375 11.28125 \r\nL 54.109375 2.78125 \r\nQ 49.265625 0.734375 44.1875 -0.34375 \r\nQ 39.109375 -1.421875 33.890625 -1.421875 \r\nQ 20.796875 -1.421875 13.15625 6.1875 \r\nQ 5.515625 13.8125 5.515625 26.8125 \r\nQ 5.515625 40.234375 12.765625 48.109375 \r\nQ 20.015625 56 32.328125 56 \r\nQ 43.359375 56 49.78125 48.890625 \r\nQ 56.203125 41.796875 56.203125 29.59375 \r\nz\r\nM 47.21875 32.234375 \r\nQ 47.125 39.59375 43.09375 43.984375 \r\nQ 39.0625 48.390625 32.421875 48.390625 \r\nQ 24.90625 48.390625 20.390625 44.140625 \r\nQ 15.875 39.890625 15.1875 32.171875 \r\nz\r\n\" id=\"DejaVuSans-101\"/>\r\n       <path d=\"M 48.78125 52.59375 \r\nL 48.78125 44.1875 \r\nQ 44.96875 46.296875 41.140625 47.34375 \r\nQ 37.3125 48.390625 33.40625 48.390625 \r\nQ 24.65625 48.390625 19.8125 42.84375 \r\nQ 14.984375 37.3125 14.984375 27.296875 \r\nQ 14.984375 17.28125 19.8125 11.734375 \r\nQ 24.65625 6.203125 33.40625 6.203125 \r\nQ 37.3125 6.203125 41.140625 7.25 \r\nQ 44.96875 8.296875 48.78125 10.40625 \r\nL 48.78125 2.09375 \r\nQ 45.015625 0.34375 40.984375 -0.53125 \r\nQ 36.96875 -1.421875 32.421875 -1.421875 \r\nQ 20.0625 -1.421875 12.78125 6.34375 \r\nQ 5.515625 14.109375 5.515625 27.296875 \r\nQ 5.515625 40.671875 12.859375 48.328125 \r\nQ 20.21875 56 33.015625 56 \r\nQ 37.15625 56 41.109375 55.140625 \r\nQ 45.0625 54.296875 48.78125 52.59375 \r\nz\r\n\" id=\"DejaVuSans-99\"/>\r\n       <path d=\"M 18.3125 70.21875 \r\nL 18.3125 54.6875 \r\nL 36.8125 54.6875 \r\nL 36.8125 47.703125 \r\nL 18.3125 47.703125 \r\nL 18.3125 18.015625 \r\nQ 18.3125 11.328125 20.140625 9.421875 \r\nQ 21.96875 7.515625 27.59375 7.515625 \r\nL 36.8125 7.515625 \r\nL 36.8125 0 \r\nL 27.59375 0 \r\nQ 17.1875 0 13.234375 3.875 \r\nQ 9.28125 7.765625 9.28125 18.015625 \r\nL 9.28125 47.703125 \r\nL 2.6875 47.703125 \r\nL 2.6875 54.6875 \r\nL 9.28125 54.6875 \r\nL 9.28125 70.21875 \r\nz\r\n\" id=\"DejaVuSans-116\"/>\r\n       <path d=\"M 45.40625 46.390625 \r\nL 45.40625 75.984375 \r\nL 54.390625 75.984375 \r\nL 54.390625 0 \r\nL 45.40625 0 \r\nL 45.40625 8.203125 \r\nQ 42.578125 3.328125 38.25 0.953125 \r\nQ 33.9375 -1.421875 27.875 -1.421875 \r\nQ 17.96875 -1.421875 11.734375 6.484375 \r\nQ 5.515625 14.40625 5.515625 27.296875 \r\nQ 5.515625 40.1875 11.734375 48.09375 \r\nQ 17.96875 56 27.875 56 \r\nQ 33.9375 56 38.25 53.625 \r\nQ 42.578125 51.265625 45.40625 46.390625 \r\nz\r\nM 14.796875 27.296875 \r\nQ 14.796875 17.390625 18.875 11.75 \r\nQ 22.953125 6.109375 30.078125 6.109375 \r\nQ 37.203125 6.109375 41.296875 11.75 \r\nQ 45.40625 17.390625 45.40625 27.296875 \r\nQ 45.40625 37.203125 41.296875 42.84375 \r\nQ 37.203125 48.484375 30.078125 48.484375 \r\nQ 22.953125 48.484375 18.875 42.84375 \r\nQ 14.796875 37.203125 14.796875 27.296875 \r\nz\r\n\" id=\"DejaVuSans-100\"/>\r\n       <path d=\"M 53.515625 70.515625 \r\nL 53.515625 60.890625 \r\nQ 47.90625 63.578125 42.921875 64.890625 \r\nQ 37.9375 66.21875 33.296875 66.21875 \r\nQ 25.25 66.21875 20.875 63.09375 \r\nQ 16.5 59.96875 16.5 54.203125 \r\nQ 16.5 49.359375 19.40625 46.890625 \r\nQ 22.3125 44.4375 30.421875 42.921875 \r\nL 36.375 41.703125 \r\nQ 47.40625 39.59375 52.65625 34.296875 \r\nQ 57.90625 29 57.90625 20.125 \r\nQ 57.90625 9.515625 50.796875 4.046875 \r\nQ 43.703125 -1.421875 29.984375 -1.421875 \r\nQ 24.8125 -1.421875 18.96875 -0.25 \r\nQ 13.140625 0.921875 6.890625 3.21875 \r\nL 6.890625 13.375 \r\nQ 12.890625 10.015625 18.65625 8.296875 \r\nQ 24.421875 6.59375 29.984375 6.59375 \r\nQ 38.421875 6.59375 43.015625 9.90625 \r\nQ 47.609375 13.234375 47.609375 19.390625 \r\nQ 47.609375 24.75 44.3125 27.78125 \r\nQ 41.015625 30.8125 33.5 32.328125 \r\nL 27.484375 33.5 \r\nQ 16.453125 35.6875 11.515625 40.375 \r\nQ 6.59375 45.0625 6.59375 53.421875 \r\nQ 6.59375 63.09375 13.40625 68.65625 \r\nQ 20.21875 74.21875 32.171875 74.21875 \r\nQ 37.3125 74.21875 42.625 73.28125 \r\nQ 47.953125 72.359375 53.515625 70.515625 \r\nz\r\n\" id=\"DejaVuSans-83\"/>\r\n       <path d=\"M 30.609375 48.390625 \r\nQ 23.390625 48.390625 19.1875 42.75 \r\nQ 14.984375 37.109375 14.984375 27.296875 \r\nQ 14.984375 17.484375 19.15625 11.84375 \r\nQ 23.34375 6.203125 30.609375 6.203125 \r\nQ 37.796875 6.203125 41.984375 11.859375 \r\nQ 46.1875 17.53125 46.1875 27.296875 \r\nQ 46.1875 37.015625 41.984375 42.703125 \r\nQ 37.796875 48.390625 30.609375 48.390625 \r\nz\r\nM 30.609375 56 \r\nQ 42.328125 56 49.015625 48.375 \r\nQ 55.71875 40.765625 55.71875 27.296875 \r\nQ 55.71875 13.875 49.015625 6.21875 \r\nQ 42.328125 -1.421875 30.609375 -1.421875 \r\nQ 18.84375 -1.421875 12.171875 6.21875 \r\nQ 5.515625 13.875 5.515625 27.296875 \r\nQ 5.515625 40.765625 12.171875 48.375 \r\nQ 18.84375 56 30.609375 56 \r\nz\r\n\" id=\"DejaVuSans-111\"/>\r\n      </defs>\r\n      <use xlink:href=\"#DejaVuSans-69\"/>\r\n      <use x=\"63.183594\" xlink:href=\"#DejaVuSans-120\"/>\r\n      <use x=\"122.363281\" xlink:href=\"#DejaVuSans-112\"/>\r\n      <use x=\"185.839844\" xlink:href=\"#DejaVuSans-101\"/>\r\n      <use x=\"247.363281\" xlink:href=\"#DejaVuSans-99\"/>\r\n      <use x=\"302.34375\" xlink:href=\"#DejaVuSans-116\"/>\r\n      <use x=\"341.552734\" xlink:href=\"#DejaVuSans-101\"/>\r\n      <use x=\"403.076172\" xlink:href=\"#DejaVuSans-100\"/>\r\n      <use x=\"466.552734\" xlink:href=\"#DejaVuSans-32\"/>\r\n      <use x=\"498.339844\" xlink:href=\"#DejaVuSans-83\"/>\r\n      <use x=\"561.816406\" xlink:href=\"#DejaVuSans-99\"/>\r\n      <use x=\"616.796875\" xlink:href=\"#DejaVuSans-111\"/>\r\n      <use x=\"677.978516\" xlink:href=\"#DejaVuSans-114\"/>\r\n      <use x=\"716.841797\" xlink:href=\"#DejaVuSans-101\"/>\r\n     </g>\r\n    </g>\r\n   </g>\r\n   <g id=\"line2d_16\">\r\n    <path clip-path=\"url(#p7a5a8cf9ca)\" d=\"M 70.563494 184.461358 \r\nL 146.654403 82.850208 \r\nL 222.745312 80.011908 \r\nL 298.836222 69.604806 \r\nL 374.927131 97.987809 \r\n\" style=\"fill:none;stroke:#1f77b4;stroke-linecap:square;stroke-width:1.5;\"/>\r\n   </g>\r\n   <g id=\"line2d_17\">\r\n    <path clip-path=\"url(#p7a5a8cf9ca)\" d=\"M 70.563494 39.777424 \r\nL 146.654403 17.083636 \r\nL 222.745312 50.285442 \r\nL 298.836222 22.293494 \r\nL 374.927131 81.103076 \r\n\" style=\"fill:none;stroke:#ff7f0e;stroke-linecap:square;stroke-width:1.5;\"/>\r\n   </g>\r\n   <g id=\"line2d_18\">\r\n    <path clip-path=\"url(#p7a5a8cf9ca)\" d=\"M 70.563494 106.670097 \r\nL 146.654403 88.228423 \r\nL 222.745312 84.560466 \r\nL 298.836222 83.745364 \r\nL 374.927131 116.349429 \r\n\" style=\"fill:none;stroke:#2ca02c;stroke-linecap:square;stroke-width:1.5;\"/>\r\n   </g>\r\n   <g id=\"line2d_19\">\r\n    <path clip-path=\"url(#p7a5a8cf9ca)\" d=\"M 70.563494 214.756364 \r\nL 146.654403 77.897484 \r\nL 222.745312 67.824818 \r\nL 298.836222 47.771897 \r\nL 374.927131 127.244305 \r\n\" style=\"fill:none;stroke:#d62728;stroke-linecap:square;stroke-width:1.5;\"/>\r\n   </g>\r\n   <g id=\"patch_3\">\r\n    <path d=\"M 55.345313 224.64 \r\nL 55.345313 7.2 \r\n\" style=\"fill:none;stroke:#000000;stroke-linecap:square;stroke-linejoin:miter;stroke-width:0.8;\"/>\r\n   </g>\r\n   <g id=\"patch_4\">\r\n    <path d=\"M 390.145312 224.64 \r\nL 390.145312 7.2 \r\n\" style=\"fill:none;stroke:#000000;stroke-linecap:square;stroke-linejoin:miter;stroke-width:0.8;\"/>\r\n   </g>\r\n   <g id=\"patch_5\">\r\n    <path d=\"M 55.345313 224.64 \r\nL 390.145312 224.64 \r\n\" style=\"fill:none;stroke:#000000;stroke-linecap:square;stroke-linejoin:miter;stroke-width:0.8;\"/>\r\n   </g>\r\n   <g id=\"patch_6\">\r\n    <path d=\"M 55.345313 7.2 \r\nL 390.145312 7.2 \r\n\" style=\"fill:none;stroke:#000000;stroke-linecap:square;stroke-linejoin:miter;stroke-width:0.8;\"/>\r\n   </g>\r\n   <g id=\"legend_1\">\r\n    <g id=\"patch_7\">\r\n     <path d=\"M 291.55 219.64 \r\nL 383.145312 219.64 \r\nQ 385.145312 219.64 385.145312 217.64 \r\nL 385.145312 159.9275 \r\nQ 385.145312 157.9275 383.145312 157.9275 \r\nL 291.55 157.9275 \r\nQ 289.55 157.9275 289.55 159.9275 \r\nL 289.55 217.64 \r\nQ 289.55 219.64 291.55 219.64 \r\nz\r\n\" style=\"fill:#ffffff;opacity:0.8;stroke:#cccccc;stroke-linejoin:miter;\"/>\r\n    </g>\r\n    <g id=\"line2d_20\">\r\n     <path d=\"M 293.55 166.025937 \r\nL 313.55 166.025937 \r\n\" style=\"fill:none;stroke:#1f77b4;stroke-linecap:square;stroke-width:1.5;\"/>\r\n    </g>\r\n    <g id=\"line2d_21\"/>\r\n    <g id=\"text_18\">\r\n     <!-- No demo -->\r\n     <g transform=\"translate(321.55 169.525937)scale(0.1 -0.1)\">\r\n      <defs>\r\n       <path d=\"M 9.8125 72.90625 \r\nL 23.09375 72.90625 \r\nL 55.421875 11.921875 \r\nL 55.421875 72.90625 \r\nL 64.984375 72.90625 \r\nL 64.984375 0 \r\nL 51.703125 0 \r\nL 19.390625 60.984375 \r\nL 19.390625 0 \r\nL 9.8125 0 \r\nz\r\n\" id=\"DejaVuSans-78\"/>\r\n       <path d=\"M 52 44.1875 \r\nQ 55.375 50.25 60.0625 53.125 \r\nQ 64.75 56 71.09375 56 \r\nQ 79.640625 56 84.28125 50.015625 \r\nQ 88.921875 44.046875 88.921875 33.015625 \r\nL 88.921875 0 \r\nL 79.890625 0 \r\nL 79.890625 32.71875 \r\nQ 79.890625 40.578125 77.09375 44.375 \r\nQ 74.3125 48.1875 68.609375 48.1875 \r\nQ 61.625 48.1875 57.5625 43.546875 \r\nQ 53.515625 38.921875 53.515625 30.90625 \r\nL 53.515625 0 \r\nL 44.484375 0 \r\nL 44.484375 32.71875 \r\nQ 44.484375 40.625 41.703125 44.40625 \r\nQ 38.921875 48.1875 33.109375 48.1875 \r\nQ 26.21875 48.1875 22.15625 43.53125 \r\nQ 18.109375 38.875 18.109375 30.90625 \r\nL 18.109375 0 \r\nL 9.078125 0 \r\nL 9.078125 54.6875 \r\nL 18.109375 54.6875 \r\nL 18.109375 46.1875 \r\nQ 21.1875 51.21875 25.484375 53.609375 \r\nQ 29.78125 56 35.6875 56 \r\nQ 41.65625 56 45.828125 52.96875 \r\nQ 50 49.953125 52 44.1875 \r\nz\r\n\" id=\"DejaVuSans-109\"/>\r\n      </defs>\r\n      <use xlink:href=\"#DejaVuSans-78\"/>\r\n      <use x=\"74.804688\" xlink:href=\"#DejaVuSans-111\"/>\r\n      <use x=\"135.986328\" xlink:href=\"#DejaVuSans-32\"/>\r\n      <use x=\"167.773438\" xlink:href=\"#DejaVuSans-100\"/>\r\n      <use x=\"231.25\" xlink:href=\"#DejaVuSans-101\"/>\r\n      <use x=\"292.773438\" xlink:href=\"#DejaVuSans-109\"/>\r\n      <use x=\"390.185547\" xlink:href=\"#DejaVuSans-111\"/>\r\n     </g>\r\n    </g>\r\n    <g id=\"line2d_22\">\r\n     <path d=\"M 293.55 180.704062 \r\nL 313.55 180.704062 \r\n\" style=\"fill:none;stroke:#ff7f0e;stroke-linecap:square;stroke-width:1.5;\"/>\r\n    </g>\r\n    <g id=\"line2d_23\"/>\r\n    <g id=\"text_19\">\r\n     <!-- Meta -->\r\n     <g transform=\"translate(321.55 184.204062)scale(0.1 -0.1)\">\r\n      <defs>\r\n       <path d=\"M 9.8125 72.90625 \r\nL 24.515625 72.90625 \r\nL 43.109375 23.296875 \r\nL 61.8125 72.90625 \r\nL 76.515625 72.90625 \r\nL 76.515625 0 \r\nL 66.890625 0 \r\nL 66.890625 64.015625 \r\nL 48.09375 14.015625 \r\nL 38.1875 14.015625 \r\nL 19.390625 64.015625 \r\nL 19.390625 0 \r\nL 9.8125 0 \r\nz\r\n\" id=\"DejaVuSans-77\"/>\r\n      </defs>\r\n      <use xlink:href=\"#DejaVuSans-77\"/>\r\n      <use x=\"86.279297\" xlink:href=\"#DejaVuSans-101\"/>\r\n      <use x=\"147.802734\" xlink:href=\"#DejaVuSans-116\"/>\r\n      <use x=\"187.011719\" xlink:href=\"#DejaVuSans-97\"/>\r\n     </g>\r\n    </g>\r\n    <g id=\"line2d_24\">\r\n     <path d=\"M 293.55 195.382187 \r\nL 313.55 195.382187 \r\n\" style=\"fill:none;stroke:#2ca02c;stroke-linecap:square;stroke-width:1.5;\"/>\r\n    </g>\r\n    <g id=\"line2d_25\"/>\r\n    <g id=\"text_20\">\r\n     <!-- Hierarchical -->\r\n     <g transform=\"translate(321.55 198.882187)scale(0.1 -0.1)\">\r\n      <defs>\r\n       <path d=\"M 9.8125 72.90625 \r\nL 19.671875 72.90625 \r\nL 19.671875 43.015625 \r\nL 55.515625 43.015625 \r\nL 55.515625 72.90625 \r\nL 65.375 72.90625 \r\nL 65.375 0 \r\nL 55.515625 0 \r\nL 55.515625 34.71875 \r\nL 19.671875 34.71875 \r\nL 19.671875 0 \r\nL 9.8125 0 \r\nz\r\n\" id=\"DejaVuSans-72\"/>\r\n       <path d=\"M 54.890625 33.015625 \r\nL 54.890625 0 \r\nL 45.90625 0 \r\nL 45.90625 32.71875 \r\nQ 45.90625 40.484375 42.875 44.328125 \r\nQ 39.84375 48.1875 33.796875 48.1875 \r\nQ 26.515625 48.1875 22.3125 43.546875 \r\nQ 18.109375 38.921875 18.109375 30.90625 \r\nL 18.109375 0 \r\nL 9.078125 0 \r\nL 9.078125 75.984375 \r\nL 18.109375 75.984375 \r\nL 18.109375 46.1875 \r\nQ 21.34375 51.125 25.703125 53.5625 \r\nQ 30.078125 56 35.796875 56 \r\nQ 45.21875 56 50.046875 50.171875 \r\nQ 54.890625 44.34375 54.890625 33.015625 \r\nz\r\n\" id=\"DejaVuSans-104\"/>\r\n      </defs>\r\n      <use xlink:href=\"#DejaVuSans-72\"/>\r\n      <use x=\"75.195312\" xlink:href=\"#DejaVuSans-105\"/>\r\n      <use x=\"102.978516\" xlink:href=\"#DejaVuSans-101\"/>\r\n      <use x=\"164.501953\" xlink:href=\"#DejaVuSans-114\"/>\r\n      <use x=\"205.615234\" xlink:href=\"#DejaVuSans-97\"/>\r\n      <use x=\"266.894531\" xlink:href=\"#DejaVuSans-114\"/>\r\n      <use x=\"305.757812\" xlink:href=\"#DejaVuSans-99\"/>\r\n      <use x=\"360.738281\" xlink:href=\"#DejaVuSans-104\"/>\r\n      <use x=\"424.117188\" xlink:href=\"#DejaVuSans-105\"/>\r\n      <use x=\"451.900391\" xlink:href=\"#DejaVuSans-99\"/>\r\n      <use x=\"506.880859\" xlink:href=\"#DejaVuSans-97\"/>\r\n      <use x=\"568.160156\" xlink:href=\"#DejaVuSans-108\"/>\r\n     </g>\r\n    </g>\r\n    <g id=\"line2d_26\">\r\n     <path d=\"M 293.55 210.060312 \r\nL 313.55 210.060312 \r\n\" style=\"fill:none;stroke:#d62728;stroke-linecap:square;stroke-width:1.5;\"/>\r\n    </g>\r\n    <g id=\"line2d_27\"/>\r\n    <g id=\"text_21\">\r\n     <!-- Feedback -->\r\n     <g transform=\"translate(321.55 213.560312)scale(0.1 -0.1)\">\r\n      <defs>\r\n       <path d=\"M 9.8125 72.90625 \r\nL 51.703125 72.90625 \r\nL 51.703125 64.59375 \r\nL 19.671875 64.59375 \r\nL 19.671875 43.109375 \r\nL 48.578125 43.109375 \r\nL 48.578125 34.8125 \r\nL 19.671875 34.8125 \r\nL 19.671875 0 \r\nL 9.8125 0 \r\nz\r\n\" id=\"DejaVuSans-70\"/>\r\n       <path d=\"M 48.6875 27.296875 \r\nQ 48.6875 37.203125 44.609375 42.84375 \r\nQ 40.53125 48.484375 33.40625 48.484375 \r\nQ 26.265625 48.484375 22.1875 42.84375 \r\nQ 18.109375 37.203125 18.109375 27.296875 \r\nQ 18.109375 17.390625 22.1875 11.75 \r\nQ 26.265625 6.109375 33.40625 6.109375 \r\nQ 40.53125 6.109375 44.609375 11.75 \r\nQ 48.6875 17.390625 48.6875 27.296875 \r\nz\r\nM 18.109375 46.390625 \r\nQ 20.953125 51.265625 25.265625 53.625 \r\nQ 29.59375 56 35.59375 56 \r\nQ 45.5625 56 51.78125 48.09375 \r\nQ 58.015625 40.1875 58.015625 27.296875 \r\nQ 58.015625 14.40625 51.78125 6.484375 \r\nQ 45.5625 -1.421875 35.59375 -1.421875 \r\nQ 29.59375 -1.421875 25.265625 0.953125 \r\nQ 20.953125 3.328125 18.109375 8.203125 \r\nL 18.109375 0 \r\nL 9.078125 0 \r\nL 9.078125 75.984375 \r\nL 18.109375 75.984375 \r\nz\r\n\" id=\"DejaVuSans-98\"/>\r\n       <path d=\"M 9.078125 75.984375 \r\nL 18.109375 75.984375 \r\nL 18.109375 31.109375 \r\nL 44.921875 54.6875 \r\nL 56.390625 54.6875 \r\nL 27.390625 29.109375 \r\nL 57.625 0 \r\nL 45.90625 0 \r\nL 18.109375 26.703125 \r\nL 18.109375 0 \r\nL 9.078125 0 \r\nz\r\n\" id=\"DejaVuSans-107\"/>\r\n      </defs>\r\n      <use xlink:href=\"#DejaVuSans-70\"/>\r\n      <use x=\"52.019531\" xlink:href=\"#DejaVuSans-101\"/>\r\n      <use x=\"113.542969\" xlink:href=\"#DejaVuSans-101\"/>\r\n      <use x=\"175.066406\" xlink:href=\"#DejaVuSans-100\"/>\r\n      <use x=\"238.542969\" xlink:href=\"#DejaVuSans-98\"/>\r\n      <use x=\"302.019531\" xlink:href=\"#DejaVuSans-97\"/>\r\n      <use x=\"363.298828\" xlink:href=\"#DejaVuSans-99\"/>\r\n      <use x=\"418.279297\" xlink:href=\"#DejaVuSans-107\"/>\r\n     </g>\r\n    </g>\r\n   </g>\r\n  </g>\r\n </g>\r\n <defs>\r\n  <clipPath id=\"p7a5a8cf9ca\">\r\n   <rect height=\"217.44\" width=\"334.8\" x=\"55.345313\" y=\"7.2\"/>\r\n  </clipPath>\r\n </defs>\r\n</svg>\r\n",
      "image/png": "[encoded data removed]"
     },
     "metadata": {
      "needs_background": "light"
     }
    }
   ],
   "source": [
    "# Plot of scores per condition\n",
    "\n",
    "score_per_trial = df_after_exclusion.groupby([\"Condition\", \"TrialId\"]).mean()[[\"Score\", \"ExpectedScore\"]]\n",
    "score_per_trial = score_per_trial.reset_index()\n",
    "\n",
    "\n",
    "plt.plot(\"TrialId\", \"ExpectedScore\", data=score_per_trial[score_per_trial[\"Condition\"]==0], label=\"No demo\")\n",
    "plt.plot(\"TrialId\", \"ExpectedScore\", data=score_per_trial[score_per_trial[\"Condition\"]==1], label=\"Meta\")\n",
    "plt.plot(\"TrialId\", \"ExpectedScore\", data=score_per_trial[score_per_trial[\"Condition\"]==2], label=\"Hierarchical\")\n",
    "plt.plot(\"TrialId\", \"ExpectedScore\", data=score_per_trial[score_per_trial[\"Condition\"]==3], label=\"Feedback\")\n",
    "plt.xlabel(\"Trial ID\")\n",
    "plt.ylabel(\"Expected Score\")\n",
    "plt.legend()"
   ]
  },
  {
   "cell_type": "code",
   "execution_count": 39,
   "metadata": {},
   "outputs": [
    {
     "output_type": "execute_result",
     "data": {
      "text/plain": [
       "           ExpectedScore  HighRiskClicks  NumClicks\n",
       "Condition                                          \n",
       "0            -103.309524        0.852381   7.671429\n",
       "1             -26.711111        1.124444   3.933333\n",
       "2             -94.410256        0.210256   3.682051\n",
       "3            -108.488372        2.386047  14.023256"
      ],
      "text/html": "<div>\n<style scoped>\n    .dataframe tbody tr th:only-of-type {\n        vertical-align: middle;\n    }\n\n    .dataframe tbody tr th {\n        vertical-align: top;\n    }\n\n    .dataframe thead th {\n        text-align: right;\n    }\n</style>\n<table border=\"1\" class=\"dataframe\">\n  <thead>\n    <tr style=\"text-align: right;\">\n      <th></th>\n      <th>ExpectedScore</th>\n      <th>HighRiskClicks</th>\n      <th>NumClicks</th>\n    </tr>\n    <tr>\n      <th>Condition</th>\n      <th></th>\n      <th></th>\n      <th></th>\n    </tr>\n  </thead>\n  <tbody>\n    <tr>\n      <th>0</th>\n      <td>-103.309524</td>\n      <td>0.852381</td>\n      <td>7.671429</td>\n    </tr>\n    <tr>\n      <th>1</th>\n      <td>-26.711111</td>\n      <td>1.124444</td>\n      <td>3.933333</td>\n    </tr>\n    <tr>\n      <th>2</th>\n      <td>-94.410256</td>\n      <td>0.210256</td>\n      <td>3.682051</td>\n    </tr>\n    <tr>\n      <th>3</th>\n      <td>-108.488372</td>\n      <td>2.386047</td>\n      <td>14.023256</td>\n    </tr>\n  </tbody>\n</table>\n</div>"
     },
     "metadata": {},
     "execution_count": 39
    }
   ],
   "source": [
    "df_after_exclusion.groupby(\"Condition\").mean()[[\"ExpectedScore\", \"HighRiskClicks\", \"NumClicks\"]]"
   ]
  },
  {
   "cell_type": "code",
   "execution_count": 40,
   "metadata": {},
   "outputs": [
    {
     "output_type": "execute_result",
     "data": {
      "text/plain": [
       "Condition\n",
       "0    173.689555\n",
       "1    121.866368\n",
       "2     51.748160\n",
       "3    179.674989\n",
       "Name: ExpectedScore, dtype: float64"
      ]
     },
     "metadata": {},
     "execution_count": 40
    }
   ],
   "source": [
    "df_after_exclusion.groupby(\"Condition\").std()[\"ExpectedScore\"]"
   ]
  },
  {
   "cell_type": "code",
   "execution_count": 41,
   "metadata": {},
   "outputs": [
    {
     "output_type": "execute_result",
     "data": {
      "text/plain": [
       "Condition\n",
       "0   -217.404762\n",
       "1    -98.911111\n",
       "2   -343.692308\n",
       "3   -187.255814\n",
       "Name: Score, dtype: float64"
      ]
     },
     "metadata": {},
     "execution_count": 41
    }
   ],
   "source": [
    "df_after_exclusion.groupby([\"Condition\"]).mean()[\"Score\"]"
   ]
  },
  {
   "cell_type": "code",
   "execution_count": 14,
   "metadata": {},
   "outputs": [
    {
     "output_type": "execute_result",
     "data": {
      "text/plain": [
       "RanksumsResult(statistic=0.4036036763977875, pvalue=0.6865041817875919)"
      ]
     },
     "metadata": {},
     "execution_count": 14
    }
   ],
   "source": [
    "# Compare actual scores on trial 3\n",
    "trial3 = df_after_exclusion[df_after_exclusion[\"TrialId\"] == 3]\n",
    "\n",
    "c1 = list(trial3[trial3[\"Condition\"] == 1][\"Score\"])\n",
    "c2 = list(trial3[trial3[\"Condition\"] == 2][\"Score\"])\n",
    "\n",
    "from scipy import stats\n",
    "\n",
    "stats.ranksums(c1,c2)"
   ]
  },
  {
   "cell_type": "code",
   "execution_count": 15,
   "metadata": {},
   "outputs": [
    {
     "output_type": "stream",
     "name": "stdout",
     "text": [
      "-136.33333333333334 522.8356444535043\n-478.5897435897436 739.1418696600468\n655.1566991594567\n"
     ]
    }
   ],
   "source": [
    "print(np.mean(c1), np.std(c1))\n",
    "\n",
    "print(np.mean(c2), np.std(c2))\n",
    "\n",
    "print(np.std(c1+c2))"
   ]
  },
  {
   "cell_type": "code",
   "execution_count": null,
   "metadata": {},
   "outputs": [],
   "source": []
  }
 ]
}